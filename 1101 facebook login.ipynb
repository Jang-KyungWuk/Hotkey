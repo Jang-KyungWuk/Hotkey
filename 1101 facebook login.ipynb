{
 "cells": [
  {
   "cell_type": "code",
   "execution_count": 1,
   "id": "5dc41573",
   "metadata": {},
   "outputs": [],
   "source": [
    "from requests import Session, get\n",
    "from datetime import datetime\n",
    "import json\n",
    "import re\n",
    "session = Session()"
   ]
  },
  {
   "cell_type": "code",
   "execution_count": 2,
   "id": "c63f3a12",
   "metadata": {},
   "outputs": [
    {
     "data": {
      "text/plain": [
       "'\\ninitHTML = init_resp.text\\nstart = initHTML.index(\\'nc_x=\\')\\nend = initHTML.index(\\'\" \\',start)\\nnc_x = initHTML[start+5:end]\\n'"
      ]
     },
     "execution_count": 2,
     "metadata": {},
     "output_type": "execute_result"
    }
   ],
   "source": [
    "initHeaders=dict()\n",
    "h='''accept: text/html,application/xhtml+xml,application/xml;q=0.9,image/webp,image/apng,*/*;q=0.8,application/signed-exchange;v=b3;q=0.9\n",
    "accept-encoding: html\n",
    "accept-language: ko\n",
    "sec-ch-ua: \"Microsoft Edge\";v=\"107\", \"Chromium\";v=\"107\", \"Not=A?Brand\";v=\"24\"\n",
    "sec-ch-ua-mobile: ?0\n",
    "sec-ch-ua-platform: \"Windows\"\n",
    "sec-fetch-dest: document\n",
    "sec-fetch-mode: navigate\n",
    "sec-fetch-site: none\n",
    "sec-fetch-user: ?1\n",
    "upgrade-insecure-requests: 1\n",
    "user-agent: Mozilla/5.0 (Windows NT 10.0; Win64; x64) AppleWebKit/537.36 (KHTML, like Gecko) Chrome/107.0.0.0 Safari/537.36 Edg/107.0.1418.26'''\n",
    "\n",
    "for line in h.split('\\n'):\n",
    "    res = line.split(': ')\n",
    "    initHeaders[res[0]]=res[1]\n",
    "\n",
    "initURL = 'http://m.facebook.com/'\n",
    "init_resp = session.get(initURL, headers=initHeaders)\n",
    "'''\n",
    "initHTML = init_resp.text\n",
    "start = initHTML.index('nc_x=')\n",
    "end = initHTML.index('\" ',start)\n",
    "nc_x = initHTML[start+5:end]\n",
    "'''"
   ]
  },
  {
   "cell_type": "code",
   "execution_count": 3,
   "id": "d7e627d0",
   "metadata": {},
   "outputs": [
    {
     "data": {
      "text/plain": [
       "\"\\ninit_resp.headers['Set-Cookie']\\n\\nsetCookieReq = init_resp.headers['Set-Cookie'].split('SameSite=None')[:-1]\\n\\nfor cookieKV  in setCookieReq:\\n    if cookieKV[:2] == ', ':\\n        cookieKV=cookieKV[2:]\\n    \\n    vStart = cookieKV.index('=')\\n    vEnd = cookieKV.index(';')\\n    \\n    print(cookieKV[:vStart])\\n    print(cookieKV[vStart+1:vEnd])\""
      ]
     },
     "execution_count": 3,
     "metadata": {},
     "output_type": "execute_result"
    }
   ],
   "source": [
    "'''\n",
    "init_resp.headers['Set-Cookie']\n",
    "\n",
    "setCookieReq = init_resp.headers['Set-Cookie'].split('SameSite=None')[:-1]\n",
    "\n",
    "for cookieKV  in setCookieReq:\n",
    "    if cookieKV[:2] == ', ':\n",
    "        cookieKV=cookieKV[2:]\n",
    "    \n",
    "    vStart = cookieKV.index('=')\n",
    "    vEnd = cookieKV.index(';')\n",
    "    \n",
    "    print(cookieKV[:vStart])\n",
    "    print(cookieKV[vStart+1:vEnd])'''"
   ]
  },
  {
   "cell_type": "code",
   "execution_count": 4,
   "id": "15956a0c",
   "metadata": {},
   "outputs": [
    {
     "data": {
      "text/plain": [
       "<RequestsCookieJar[Cookie(version=0, name='datr', value='BcFgYz5oGxR0lki9Lt5jinXy', port=None, port_specified=False, domain='.facebook.com', domain_specified=True, domain_initial_dot=True, path='/', path_specified=True, secure=True, expires=1730357254, discard=False, comment=None, comment_url=None, rest={'httponly': None, 'SameSite': 'None'}, rfc2109=False), Cookie(version=0, name='fr', value='0r24tPgwuE3BGa14a..BjYMEF.5I.AAA.0.0.BjYMEF.AWVoqbx-Bsg', port=None, port_specified=False, domain='.facebook.com', domain_specified=True, domain_initial_dot=True, path='/', path_specified=True, secure=True, expires=1675061253, discard=False, comment=None, comment_url=None, rest={'httponly': None, 'SameSite': 'None'}, rfc2109=False), Cookie(version=0, name='sb', value='BcFgY1TGqeaH7_pXlzry0qTd', port=None, port_specified=False, domain='.facebook.com', domain_specified=True, domain_initial_dot=True, path='/', path_specified=True, secure=True, expires=1730357254, discard=False, comment=None, comment_url=None, rest={'httponly': None, 'SameSite': 'None'}, rfc2109=False)]>"
      ]
     },
     "execution_count": 4,
     "metadata": {},
     "output_type": "execute_result"
    }
   ],
   "source": [
    "session.cookies # 쿠키 확인"
   ]
  },
  {
   "cell_type": "code",
   "execution_count": 5,
   "id": "0dd8a7a8",
   "metadata": {},
   "outputs": [],
   "source": [
    "loginHTML = init_resp.text\n",
    "cropstart='action=\"/login/device-based/regular/login/?refsrc=deprecated&amp;lwv=100&amp;refid=8\"'\n",
    "cropend=\"비밀번호를 잊으셨나요?\"\n",
    "paramHTML = loginHTML[loginHTML.index(cropstart):loginHTML.index(cropend)]"
   ]
  },
  {
   "cell_type": "code",
   "execution_count": 6,
   "id": "89950e76",
   "metadata": {},
   "outputs": [],
   "source": [
    "startpoint = '<input type=\"hidden\"'\n",
    "endpoint = \">\"\n",
    "prev_end=0\n",
    "\n",
    "payloadFromHTML=dict()\n",
    "for n in range(10):\n",
    "    try:\n",
    "        start = paramHTML.index(startpoint,prev_end)\n",
    "        end = paramHTML.index(endpoint,start)\n",
    "    except:\n",
    "        break\n",
    "    KVstring = paramHTML[start:end]\n",
    "    \n",
    "    if \"value\" in KVstring:\n",
    "        kv = re.findall('.+name=\"([^\"]+)\".+value=\"([^\"]+)\"',KVstring)\n",
    "        payloadFromHTML[kv[0][0]] = kv[0][1]\n",
    "    else:\n",
    "        pass\n",
    "    prev_end=end"
   ]
  },
  {
   "cell_type": "code",
   "execution_count": 7,
   "id": "6690ae5c",
   "metadata": {},
   "outputs": [
    {
     "data": {
      "text/plain": [
       "{'lsd': 'AVpWTQni-pw',\n",
       " 'jazoest': '21006',\n",
       " 'm_ts': '1667285253',\n",
       " 'li': 'BcFgY8tkaQnkytnPUlKQ4OCB',\n",
       " 'try_number': '0',\n",
       " 'unrecognized_tries': '0'}"
      ]
     },
     "execution_count": 7,
     "metadata": {},
     "output_type": "execute_result"
    }
   ],
   "source": [
    "payloadFromHTML"
   ]
  },
  {
   "cell_type": "code",
   "execution_count": 8,
   "id": "d30088b3",
   "metadata": {},
   "outputs": [],
   "source": [
    "cTime = payloadFromHTML['m_ts']"
   ]
  },
  {
   "cell_type": "code",
   "execution_count": 9,
   "id": "7c050c65",
   "metadata": {},
   "outputs": [],
   "source": [
    "payloadFromHTML['email']='seungirumd+1@gmail.com'\n",
    "payloadFromHTML['encpass'] = '#PWD_BROWSER:0:{}:{}'.format(cTime,'pfbmw246')"
   ]
  },
  {
   "cell_type": "code",
   "execution_count": 10,
   "id": "0ac87d89",
   "metadata": {},
   "outputs": [],
   "source": [
    "headers=initHeaders.copy()\n",
    "headers['x-requested-with']='XMLHttpRequest'\n",
    "headers['x-response-format']='JSONStream'"
   ]
  },
  {
   "cell_type": "code",
   "execution_count": 11,
   "id": "81ed7230",
   "metadata": {},
   "outputs": [],
   "source": [
    "loginURL = 'https://m.facebook.com/login/device-based/login/async/?refsrc=deprecated&lwv=100'\n",
    "resp = session.post(loginURL, data=payloadFromHTML, headers=headers)"
   ]
  },
  {
   "cell_type": "code",
   "execution_count": 12,
   "id": "ead4dfcc",
   "metadata": {},
   "outputs": [
    {
     "data": {
      "text/plain": [
       "<RequestsCookieJar[Cookie(version=0, name='c_user', value='100087280119490', port=None, port_specified=False, domain='.facebook.com', domain_specified=True, domain_initial_dot=True, path='/', path_specified=True, secure=True, expires=1698821253, discard=False, comment=None, comment_url=None, rest={'SameSite': 'None'}, rfc2109=False), Cookie(version=0, name='datr', value='BcFgYz5oGxR0lki9Lt5jinXy', port=None, port_specified=False, domain='.facebook.com', domain_specified=True, domain_initial_dot=True, path='/', path_specified=True, secure=True, expires=1730357254, discard=False, comment=None, comment_url=None, rest={'httponly': None, 'SameSite': 'None'}, rfc2109=False), Cookie(version=0, name='fr', value='0r24tPgwuE3BGa14a.AWUZ3OD5L6OQINwSSRkiAgCOMnc.BjYMEF.5I.AAA.0.0.BjYMEF.AWVDD39Aspo', port=None, port_specified=False, domain='.facebook.com', domain_specified=True, domain_initial_dot=True, path='/', path_specified=True, secure=True, expires=1675061250, discard=False, comment=None, comment_url=None, rest={'httponly': None, 'SameSite': 'None'}, rfc2109=False), Cookie(version=0, name='sb', value='BcFgY1TGqeaH7_pXlzry0qTd', port=None, port_specified=False, domain='.facebook.com', domain_specified=True, domain_initial_dot=True, path='/', path_specified=True, secure=True, expires=1730357256, discard=False, comment=None, comment_url=None, rest={'httponly': None, 'SameSite': 'None'}, rfc2109=False), Cookie(version=0, name='xs', value='16%3Al655teTGMbetjA%3A2%3A1667285254%3A-1%3A-1', port=None, port_specified=False, domain='.facebook.com', domain_specified=True, domain_initial_dot=True, path='/', path_specified=True, secure=True, expires=1698821253, discard=False, comment=None, comment_url=None, rest={'httponly': None, 'SameSite': 'None'}, rfc2109=False)]>"
      ]
     },
     "execution_count": 12,
     "metadata": {},
     "output_type": "execute_result"
    }
   ],
   "source": [
    "session.cookies"
   ]
  },
  {
   "cell_type": "code",
   "execution_count": 13,
   "id": "17142136",
   "metadata": {},
   "outputs": [
    {
     "data": {
      "text/plain": [
       "{'Vary': 'Accept-Encoding', 'Set-Cookie': 'fr=0r24tPgwuE3BGa14a.AWUZ3OD5L6OQINwSSRkiAgCOMnc.BjYMEF.5I.AAA.0.0.BjYMEF.AWVDD39Aspo; expires=Mon, 30-Jan-2023 06:47:27 GMT; Max-Age=7775994; path=/; domain=.facebook.com; secure; httponly; SameSite=None, sb=BcFgY1TGqeaH7_pXlzry0qTd; expires=Thu, 31-Oct-2024 06:47:33 GMT; Max-Age=63072000; path=/; domain=.facebook.com; secure; httponly; SameSite=None, c_user=100087280119490; expires=Wed, 01-Nov-2023 06:47:30 GMT; Max-Age=31535997; path=/; domain=.facebook.com; secure; SameSite=None, xs=16%3Al655teTGMbetjA%3A2%3A1667285254%3A-1%3A-1; expires=Wed, 01-Nov-2023 06:47:30 GMT; Max-Age=31535997; path=/; domain=.facebook.com; secure; httponly; SameSite=None', 'report-to': '{\"max_age\":259200,\"endpoints\":[{\"url\":\"https:\\\\/\\\\/m.facebook.com\\\\/ajax\\\\/mtouch_error_reports\\\\/?device_level=unknown\"}]}', 'x-fb-rlafr': '0', 'content-security-policy-report-only': \"default-src data: blob: 'self' https://*.fbsbx.com 'unsafe-inline' *.facebook.com 'unsafe-eval' *.fbcdn.net;script-src *.facebook.com *.fbcdn.net *.facebook.net *.google-analytics.com *.google.com 127.0.0.1:* 'unsafe-inline' 'unsafe-eval' blob: data: 'self' connect.facebook.net;style-src fonts.googleapis.com *.fbcdn.net data: *.facebook.com 'unsafe-inline';connect-src *.facebook.com facebook.com *.fbcdn.net *.facebook.net wss://*.facebook.com:* wss://*.whatsapp.com:* wss://*.fbcdn.net attachment.fbsbx.com ws://localhost:* blob: *.cdninstagram.com 'self' http://localhost:3103 wss://gateway.facebook.com wss://edge-chat.facebook.com wss://snaptu-d.facebook.com wss://kaios-d.facebook.com/ v.whatsapp.net *.fbsbx.com *.fb.com;font-src data: *.gstatic.com *.facebook.com *.fbcdn.net *.fbsbx.com;img-src *.fbcdn.net *.facebook.com data: https://*.fbsbx.com *.tenor.co media.tenor.com facebook.com *.cdninstagram.com fbsbx.com fbcdn.net *.giphy.com connect.facebook.net *.carriersignal.info blob: android-webview-video-poster: googleads.g.doubleclick.net www.googleadservices.com *.whatsapp.net *.fb.com *.oculuscdn.com;media-src *.cdninstagram.com blob: *.fbcdn.net *.fbsbx.com www.facebook.com *.facebook.com https://*.giphy.com data:;frame-src *.doubleclick.net *.google.com *.facebook.com www.googleadservices.com *.fbsbx.com fbsbx.com data: www.instagram.com *.fbcdn.net https://paywithmybank.com;worker-src blob: *.facebook.com data:;report-uri https://www.facebook.com/csp/reporting/?minimize=0;\", 'content-security-policy': \"default-src data: blob: 'self' https://*.fbsbx.com 'unsafe-inline' *.facebook.com 'unsafe-eval' *.fbcdn.net;script-src *.facebook.com *.fbcdn.net *.facebook.net *.google-analytics.com *.google.com 127.0.0.1:* 'unsafe-inline' 'unsafe-eval' blob: data: 'self' connect.facebook.net;style-src fonts.googleapis.com *.fbcdn.net data: *.facebook.com 'unsafe-inline';connect-src *.facebook.com facebook.com *.fbcdn.net *.facebook.net wss://*.facebook.com:* wss://*.whatsapp.com:* wss://*.fbcdn.net attachment.fbsbx.com ws://localhost:* blob: *.cdninstagram.com 'self' http://localhost:3103 wss://gateway.facebook.com wss://edge-chat.facebook.com wss://snaptu-d.facebook.com wss://kaios-d.facebook.com/ v.whatsapp.net *.fbsbx.com *.fb.com;font-src data: *.gstatic.com *.facebook.com *.fbcdn.net *.fbsbx.com;img-src *.fbcdn.net *.facebook.com data: https://*.fbsbx.com *.tenor.co media.tenor.com facebook.com *.cdninstagram.com fbsbx.com fbcdn.net *.giphy.com connect.facebook.net *.carriersignal.info blob: android-webview-video-poster: googleads.g.doubleclick.net www.googleadservices.com *.whatsapp.net *.fb.com *.oculuscdn.com;media-src *.cdninstagram.com blob: *.fbcdn.net *.fbsbx.com www.facebook.com *.facebook.com https://*.giphy.com data:;frame-src *.doubleclick.net *.google.com *.facebook.com www.googleadservices.com *.fbsbx.com fbsbx.com data: www.instagram.com *.fbcdn.net https://paywithmybank.com;worker-src blob: *.facebook.com data:;\", 'document-policy': 'force-load-at-top', 'cross-origin-resource-policy': 'same-origin', 'cross-origin-opener-policy': 'unsafe-none', 'Pragma': 'no-cache', 'Cache-Control': 'private, no-cache, no-store, must-revalidate', 'Expires': 'Sat, 01 Jan 2000 00:00:00 GMT', 'X-Content-Type-Options': 'nosniff', 'X-XSS-Protection': '0', 'X-Frame-Options': 'DENY', 'Content-Type': 'text/html; charset=euc-kr', 'Strict-Transport-Security': 'max-age=15552000; preload; includeSubDomains', 'X-FB-Debug': '5tuy79x1q0Ri5xemswzcn664Sjr2x0anxT1oMrfOyrMjU9PCaJbwmvs5gT13MdNthhoDcTBjZcQJ9lqwDKKz4w==', 'Date': 'Tue, 01 Nov 2022 06:47:35 GMT', 'Priority': 'u=3,i', 'Alt-Svc': 'h3=\":443\"; ma=86400', 'Transfer-Encoding': 'chunked', 'Connection': 'keep-alive'}"
      ]
     },
     "execution_count": 13,
     "metadata": {},
     "output_type": "execute_result"
    }
   ],
   "source": [
    "resp.headers"
   ]
  },
  {
   "cell_type": "code",
   "execution_count": 14,
   "id": "caba1609",
   "metadata": {},
   "outputs": [
    {
     "data": {
      "text/plain": [
       "'for (;;);{\"payload\":{\"actions\":[{\"cmd\":\"append\",\"target\":\"static_templates\",\"html\":\"\",\"replaceifexists\":true},{\"cmd\":\"script\",\"type\":\"onload\",\"code\":\"(new (require(\\\\\"ServerJS\\\\\"))()).handle({\\\\\"define\\\\\":[[\\\\\"IntlCurrentLocale\\\\\",[],{\\\\\"code\\\\\":\\\\\"ko_KR\\\\\"},5954],[\\\\\"CometPersistQueryParams\\\\\",[],{\\\\\"relative\\\\\":{},\\\\\"domain\\\\\":{}},6231],[\\\\\"CookieDomain\\\\\",[],{\\\\\"domain\\\\\":\\\\\"facebook.com\\\\\"},6421],[\\\\\"IntlVariationHoldout\\\\\",[],{\\\\\"disable_variation\\\\\":false},6533],[\\\\\"CurrentAdAccountInitialData\\\\\",[],{\\\\\"AD_ACCOUNT_ID\\\\\":null},6828],[\\\\\"BootloaderConfig\\\\\",[],{\\\\\"deferBootloads\\\\\":false,\\\\\"jsRetries\\\\\":[200,500],\\\\\"jsRetryAbortNum\\\\\":2,\\\\\"jsRetryAbortTime\\\\\":5,\\\\\"silentDups\\\\\":false,\\\\\"hypStep4\\\\\":false,\\\\\"phdOn\\\\\":false,\\\\\"btCutoffIndex\\\\\":547,\\\\\"translationRetries\\\\\":[200,500],\\\\\"translationRetryAbortNum\\\\\":3,\\\\\"translationRetryAbortTime\\\\\":50},329],[\\\\\"CSSLoaderConfig\\\\\",[],{\\\\\"timeout\\\\\":5000,\\\\\"modulePrefix\\\\\":\\\\\"BLCSS:\\\\\",\\\\\"loadEventSupported\\\\\":true},619],[\\\\\"CookieCoreConfig\\\\\",[],{\\\\\"c_user\\\\\":{\\\\\"s\\\\\":\\\\\"None\\\\\"},\\\\\"cppo\\\\\":{\\\\\"t\\\\\":86400,\\\\\"s\\\\\":\\\\\"None\\\\\"},\\\\\"dpr\\\\\":{\\\\\"t\\\\\":604800,\\\\\"s\\\\\":\\\\\"None\\\\\"},\\\\\"fbl_ci\\\\\":{\\\\\"t\\\\\":31536000,\\\\\"s\\\\\":\\\\\"None\\\\\"},\\\\\"fbl_cs\\\\\":{\\\\\"t\\\\\":31536000,\\\\\"s\\\\\":\\\\\"None\\\\\"},\\\\\"fbl_st\\\\\":{\\\\\"t\\\\\":31536000,\\\\\"s\\\\\":\\\\\"Strict\\\\\"},\\\\\"i_user\\\\\":{\\\\\"s\\\\\":\\\\\"None\\\\\"},\\\\\"locale\\\\\":{\\\\\"t\\\\\":604800,\\\\\"s\\\\\":\\\\\"None\\\\\"},\\\\\"m_ls\\\\\":{\\\\\"t\\\\\":158284800,\\\\\"s\\\\\":\\\\\"None\\\\\"},\\\\\"m_pixel_ratio\\\\\":{\\\\\"t\\\\\":604800,\\\\\"s\\\\\":\\\\\"None\\\\\"},\\\\\"noscript\\\\\":{\\\\\"s\\\\\":\\\\\"None\\\\\"},\\\\\"presence\\\\\":{\\\\\"t\\\\\":2592000,\\\\\"s\\\\\":\\\\\"None\\\\\"},\\\\\"sfau\\\\\":{\\\\\"s\\\\\":\\\\\"None\\\\\"},\\\\\"usida\\\\\":{\\\\\"s\\\\\":\\\\\"None\\\\\"},\\\\\"vpd\\\\\":{\\\\\"t\\\\\":5184000,\\\\\"s\\\\\":\\\\\"Lax\\\\\"},\\\\\"wd\\\\\":{\\\\\"t\\\\\":604800,\\\\\"s\\\\\":\\\\\"Lax\\\\\"},\\\\\"x-referer\\\\\":{\\\\\"s\\\\\":\\\\\"None\\\\\"},\\\\\"x-src\\\\\":{\\\\\"t\\\\\":1,\\\\\"s\\\\\":\\\\\"None\\\\\"}},2104],[\\\\\"CurrentCommunityInitialData\\\\\",[],{},490],[\\\\\"FbtQTOverrides\\\\\",[],{\\\\\"overrides\\\\\":{}},551],[\\\\\"FbtResultGK\\\\\",[],{\\\\\"shouldReturnFbtResult\\\\\":true,\\\\\"inlineMode\\\\\":\\\\\"NO_INLINE\\\\\"},876],[\\\\\"ISB\\\\\",[],{},330],[\\\\\"IntlPhonologicalRules\\\\\",[],{\\\\\"meta\\\\\":{},\\\\\"patterns\\\\\":{}},1496],[\\\\\"IntlViewerContext\\\\\",[],{\\\\\"GENDER\\\\\":3,\\\\\"regionalLocale\\\\\":null},772],[\\\\\"LSD\\\\\",[],{\\\\\"token\\\\\":\\\\\"AVpWTQniSgI\\\\\"},323],[\\\\\"MJSEnvironment\\\\\",[],{\\\\\"IS_APPLE_WEBKIT_IOS\\\\\":false,\\\\\"IS_TABLET\\\\\":false,\\\\\"IS_ANDROID\\\\\":false,\\\\\"IS_CHROME\\\\\":true,\\\\\"IS_FIREFOX\\\\\":false,\\\\\"IS_WINDOWS_PHONE\\\\\":false,\\\\\"IS_SAMSUNG_DEVICE\\\\\":false,\\\\\"OS_VERSION\\\\\":10,\\\\\"PIXEL_RATIO\\\\\":1,\\\\\"BROWSER_NAME\\\\\":\\\\\"Edge (Chromium Based)\\\\\"},46],[\\\\\"MLoadingIndicatorSigils\\\\\",[],{\\\\\"ANIMATE\\\\\":\\\\\"m-loading-indicator-animate\\\\\",\\\\\"ROOT\\\\\":\\\\\"m-loading-indicator-root\\\\\"},279],[\\\\\"MRequestConfig\\\\\",[],{\\\\\"dtsg\\\\\":{\\\\\"token\\\\\":\\\\\"NAcPBvq_ooLtSf6EIKDzvt9ouNkiMtu2be1yA-b7PhebofwkkpK2z1g:0:0\\\\\",\\\\\"valid_for\\\\\":86400,\\\\\"expire\\\\\":1667371655},\\\\\"dtsg_ag\\\\\":{\\\\\"token\\\\\":\\\\\"AQzMUlBFOVjEy_dPs-AOi_GZFsVOuBTEnUEE1GOG55IVeCJu:0:0\\\\\",\\\\\"valid_for\\\\\":604800,\\\\\"expire\\\\\":1667890055},\\\\\"lsd\\\\\":\\\\\"AVpWTQniSgI\\\\\",\\\\\"checkResponseOrigin\\\\\":true,\\\\\"checkResponseToken\\\\\":true,\\\\\"cleanFinishedRequest\\\\\":false,\\\\\"cleanFinishedPrefetchRequests\\\\\":false,\\\\\"ajaxResponseToken\\\\\":{\\\\\"secret\\\\\":\\\\\"NpH-9ULehVFD4xjNK6HTpm3X2w-k-CIt\\\\\",\\\\\"encrypted\\\\\":\\\\\"AYkSHwJg3sRgU4FBF9JpnRTF7rZxJv0_0tRCMRsQYN_cwA9VYWB2j20r0BPM8QhbkXXiEs-4p1Y8Fg0ohH5muEdTRG8w2rLbEEiGhC0uC90SZQ\\\\\"}},51],[\\\\\"NumberFormatConfig\\\\\",[],{\\\\\"decimalSeparator\\\\\":\\\\\".\\\\\",\\\\\"numberDelimiter\\\\\":\\\\\",\\\\\",\\\\\"minDigitsForThousandsSeparator\\\\\":4,\\\\\"standardDecimalPatternInfo\\\\\":{\\\\\"primaryGroupSize\\\\\":3,\\\\\"secondaryGroupSize\\\\\":3},\\\\\"numberingSystemData\\\\\":null},54],[\\\\\"ServerNonce\\\\\",[],{\\\\\"ServerNonce\\\\\":\\\\\"UIo5hnHznhebIZvHv3XdPO\\\\\"},141],[\\\\\"SiteData\\\\\",[],{\\\\\"server_revision\\\\\":1006508415,\\\\\"client_revision\\\\\":1006508415,\\\\\"tier\\\\\":\\\\\"\\\\\",\\\\\"push_phase\\\\\":\\\\\"C3\\\\\",\\\\\"pkg_cohort\\\\\":\\\\\"BP:mtouch_pkg\\\\\",\\\\\"haste_session\\\\\":\\\\\"19297.BP:mtouch_pkg.2.0.0.0.0\\\\\",\\\\\"pr\\\\\":1,\\\\\"haste_site\\\\\":\\\\\"mobile\\\\\",\\\\\"manifest_base_uri\\\\\":\\\\\"https:\\\\\\\\\\\\/\\\\\\\\\\\\/static.xx.fbcdn.net\\\\\",\\\\\"manifest_origin\\\\\":null,\\\\\"be_one_ahead\\\\\":false,\\\\\"is_rtl\\\\\":false,\\\\\"is_comet\\\\\":false,\\\\\"is_experimental_tier\\\\\":false,\\\\\"is_jit_warmed_up\\\\\":true,\\\\\"hsi\\\\\":\\\\\"7160935643678717236\\\\\",\\\\\"semr_host_bucket\\\\\":\\\\\"3\\\\\",\\\\\"bl_hash_version\\\\\":2,\\\\\"skip_rd_bl\\\\\":true,\\\\\"comet_env\\\\\":0,\\\\\"wbloks_env\\\\\":false,\\\\\"spin\\\\\":0,\\\\\"__spin_r\\\\\":1006508415,\\\\\"__spin_b\\\\\":\\\\\"trunk\\\\\",\\\\\"__spin_t\\\\\":1667285253,\\\\\"vip\\\\\":\\\\\"31.13.76.35\\\\\"},317],[\\\\\"SprinkleConfig\\\\\",[],{\\\\\"param_name\\\\\":\\\\\"jazoest\\\\\",\\\\\"version\\\\\":2,\\\\\"should_randomize\\\\\":false},2111],[\\\\\"UserAgentData\\\\\",[],{\\\\\"browserArchitecture\\\\\":\\\\\"64\\\\\",\\\\\"browserFullVersion\\\\\":\\\\\"107.0.1418.26\\\\\",\\\\\"browserMinorVersion\\\\\":0,\\\\\"browserName\\\\\":\\\\\"Edge (Chromium Based)\\\\\",\\\\\"browserVersion\\\\\":107,\\\\\"deviceName\\\\\":\\\\\"Unknown\\\\\",\\\\\"engineName\\\\\":\\\\\"WebKit\\\\\",\\\\\"engineVersion\\\\\":\\\\\"537.36\\\\\",\\\\\"platformArchitecture\\\\\":\\\\\"64\\\\\",\\\\\"platformName\\\\\":\\\\\"Windows\\\\\",\\\\\"platformVersion\\\\\":\\\\\"10\\\\\",\\\\\"platformFullVersion\\\\\":\\\\\"10\\\\\"},527],[\\\\\"ZeroCategoryHeader\\\\\",[],{},1127],[\\\\\"ZeroRewriteRules\\\\\",[],{\\\\\"rewrite_rules\\\\\":{},\\\\\"whitelist\\\\\":{\\\\\"\\\\\\\\\\\\/hr\\\\\\\\\\\\/r\\\\\":1,\\\\\"\\\\\\\\\\\\/hr\\\\\\\\\\\\/p\\\\\":1,\\\\\"\\\\\\\\\\\\/zero\\\\\\\\\\\\/unsupported_browser\\\\\\\\\\\\/\\\\\":1,\\\\\"\\\\\\\\\\\\/zero\\\\\\\\\\\\/policy\\\\\\\\\\\\/optin\\\\\":1,\\\\\"\\\\\\\\\\\\/zero\\\\\\\\\\\\/optin\\\\\\\\\\\\/write\\\\\\\\\\\\/\\\\\":1,\\\\\"\\\\\\\\\\\\/zero\\\\\\\\\\\\/optin\\\\\\\\\\\\/legal\\\\\\\\\\\\/\\\\\":1,\\\\\"\\\\\\\\\\\\/zero\\\\\\\\\\\\/optin\\\\\\\\\\\\/free\\\\\\\\\\\\/\\\\\":1,\\\\\"\\\\\\\\\\\\/about\\\\\\\\\\\\/privacy\\\\\\\\\\\\/\\\\\":1,\\\\\"\\\\\\\\\\\\/about\\\\\\\\\\\\/privacy\\\\\\\\\\\\/update\\\\\\\\\\\\/\\\\\":1,\\\\\"\\\\\\\\\\\\/privacy\\\\\\\\\\\\/explanation\\\\\\\\\\\\/\\\\\":1,\\\\\"\\\\\\\\\\\\/zero\\\\\\\\\\\\/toggle\\\\\\\\\\\\/welcome\\\\\\\\\\\\/\\\\\":1,\\\\\"\\\\\\\\\\\\/zero\\\\\\\\\\\\/toggle\\\\\\\\\\\\/nux\\\\\\\\\\\\/\\\\\":1,\\\\\"\\\\\\\\\\\\/zero\\\\\\\\\\\\/toggle\\\\\\\\\\\\/settings\\\\\\\\\\\\/\\\\\":1,\\\\\"\\\\\\\\\\\\/fup\\\\\\\\\\\\/interstitial\\\\\\\\\\\\/\\\\\":1,\\\\\"\\\\\\\\\\\\/work\\\\\\\\\\\\/landing\\\\\":1,\\\\\"\\\\\\\\\\\\/work\\\\\\\\\\\\/login\\\\\\\\\\\\/\\\\\":1,\\\\\"\\\\\\\\\\\\/work\\\\\\\\\\\\/email\\\\\\\\\\\\/\\\\\":1,\\\\\"\\\\\\\\\\\\/ai.php\\\\\":1,\\\\\"\\\\\\\\\\\\/js_dialog_resources\\\\\\\\\\\\/dialog_descriptions_android.json\\\\\":0,\\\\\"\\\\\\\\\\\\/connect\\\\\\\\\\\\/jsdialog\\\\\\\\\\\\/MPlatformAppInvitesJSDialog\\\\\\\\\\\\/\\\\\":0,\\\\\"\\\\\\\\\\\\/connect\\\\\\\\\\\\/jsdialog\\\\\\\\\\\\/MPlatformOAuthShimJSDialog\\\\\\\\\\\\/\\\\\":0,\\\\\"\\\\\\\\\\\\/connect\\\\\\\\\\\\/jsdialog\\\\\\\\\\\\/MPlatformLikeJSDialog\\\\\\\\\\\\/\\\\\":0,\\\\\"\\\\\\\\\\\\/qp\\\\\\\\\\\\/interstitial\\\\\\\\\\\\/\\\\\":1,\\\\\"\\\\\\\\\\\\/qp\\\\\\\\\\\\/action\\\\\\\\\\\\/redirect\\\\\\\\\\\\/\\\\\":1,\\\\\"\\\\\\\\\\\\/qp\\\\\\\\\\\\/action\\\\\\\\\\\\/close\\\\\\\\\\\\/\\\\\":1,\\\\\"\\\\\\\\\\\\/zero\\\\\\\\\\\\/support\\\\\\\\\\\\/ineligible\\\\\\\\\\\\/\\\\\":1,\\\\\"\\\\\\\\\\\\/zero_balance_redirect\\\\\\\\\\\\/\\\\\":1,\\\\\"\\\\\\\\\\\\/zero_balance_redirect\\\\\":1,\\\\\"\\\\\\\\\\\\/zero_balance_redirect\\\\\\\\\\\\/l\\\\\\\\\\\\/\\\\\":1,\\\\\"\\\\\\\\\\\\/l.php\\\\\":1,\\\\\"\\\\\\\\\\\\/lsr.php\\\\\":1,\\\\\"\\\\\\\\\\\\/ajax\\\\\\\\\\\\/dtsg\\\\\\\\\\\\/\\\\\":1,\\\\\"\\\\\\\\\\\\/checkpoint\\\\\\\\\\\\/block\\\\\\\\\\\\/\\\\\":1,\\\\\"\\\\\\\\\\\\/exitdsite\\\\\":1,\\\\\"\\\\\\\\\\\\/zero\\\\\\\\\\\\/balance\\\\\\\\\\\\/pixel\\\\\\\\\\\\/\\\\\":1,\\\\\"\\\\\\\\\\\\/zero\\\\\\\\\\\\/balance\\\\\\\\\\\\/\\\\\":1,\\\\\"\\\\\\\\\\\\/zero\\\\\\\\\\\\/balance\\\\\\\\\\\\/carrier_landing\\\\\\\\\\\\/\\\\\":1,\\\\\"\\\\\\\\\\\\/zero\\\\\\\\\\\\/flex\\\\\\\\\\\\/logging\\\\\\\\\\\\/\\\\\":1,\\\\\"\\\\\\\\\\\\/tr\\\\\":1,\\\\\"\\\\\\\\\\\\/tr\\\\\\\\\\\\/\\\\\":1,\\\\\"\\\\\\\\\\\\/sem_campaigns\\\\\\\\\\\\/sem_pixel_test\\\\\\\\\\\\/\\\\\":1,\\\\\"\\\\\\\\\\\\/bookmarks\\\\\\\\\\\\/flyout\\\\\\\\\\\\/body\\\\\\\\\\\\/\\\\\":1,\\\\\"\\\\\\\\\\\\/zero\\\\\\\\\\\\/subno\\\\\\\\\\\\/\\\\\":1,\\\\\"\\\\\\\\\\\\/confirmemail.php\\\\\":1,\\\\\"\\\\\\\\\\\\/policies\\\\\\\\\\\\/\\\\\":1,\\\\\"\\\\\\\\\\\\/mobile\\\\\\\\\\\\/internetdotorg\\\\\\\\\\\\/classifier\\\\\\\\\\\\/\\\\\":1,\\\\\"\\\\\\\\\\\\/zero\\\\\\\\\\\\/dogfooding\\\\\":1,\\\\\"\\\\\\\\\\\\/xti.php\\\\\":1,\\\\\"\\\\\\\\\\\\/zero\\\\\\\\\\\\/fblite\\\\\\\\\\\\/config\\\\\\\\\\\\/\\\\\":1,\\\\\"\\\\\\\\\\\\/hr\\\\\\\\\\\\/zsh\\\\\\\\\\\\/wc\\\\\\\\\\\\/\\\\\":1,\\\\\"\\\\\\\\\\\\/ajax\\\\\\\\\\\\/bootloader-endpoint\\\\\\\\\\\\/\\\\\":1,\\\\\"\\\\\\\\\\\\/mobile\\\\\\\\\\\\/zero\\\\\\\\\\\\/carrier_page\\\\\\\\\\\\/\\\\\":1,\\\\\"\\\\\\\\\\\\/mobile\\\\\\\\\\\\/zero\\\\\\\\\\\\/carrier_page\\\\\\\\\\\\/education_page\\\\\\\\\\\\/\\\\\":1,\\\\\"\\\\\\\\\\\\/mobile\\\\\\\\\\\\/zero\\\\\\\\\\\\/carrier_page\\\\\\\\\\\\/feature_switch\\\\\\\\\\\\/\\\\\":1,\\\\\"\\\\\\\\\\\\/mobile\\\\\\\\\\\\/zero\\\\\\\\\\\\/carrier_page\\\\\\\\\\\\/settings_page\\\\\\\\\\\\/\\\\\":1,\\\\\"\\\\\\\\\\\\/aloha_check_build\\\\\":1,\\\\\"\\\\\\\\\\\\/upsell\\\\\\\\\\\\/zbd\\\\\\\\\\\\/softnudge\\\\\\\\\\\\/\\\\\":1,\\\\\"\\\\\\\\\\\\/mobile\\\\\\\\\\\\/zero\\\\\\\\\\\\/af_transition\\\\\\\\\\\\/\\\\\":1,\\\\\"\\\\\\\\\\\\/mobile\\\\\\\\\\\\/zero\\\\\\\\\\\\/af_transition\\\\\\\\\\\\/action\\\\\\\\\\\\/\\\\\":1,\\\\\"\\\\\\\\\\\\/mobile\\\\\\\\\\\\/zero\\\\\\\\\\\\/freemium\\\\\\\\\\\\/\\\\\":1,\\\\\"\\\\\\\\\\\\/mobile\\\\\\\\\\\\/zero\\\\\\\\\\\\/freemium\\\\\\\\\\\\/redirect\\\\\\\\\\\\/\\\\\":1,\\\\\"\\\\\\\\\\\\/mobile\\\\\\\\\\\\/zero\\\\\\\\\\\\/freemium\\\\\\\\\\\\/zero_fup\\\\\\\\\\\\/\\\\\":1,\\\\\"\\\\\\\\\\\\/privacy\\\\\\\\\\\\/policy\\\\\\\\\\\\/\\\\\":1,\\\\\"\\\\\\\\\\\\/privacy\\\\\\\\\\\\/center\\\\\\\\\\\\/\\\\\":1,\\\\\"\\\\\\\\\\\\/data\\\\\\\\\\\\/manifest\\\\\\\\\\\\/\\\\\":1,\\\\\"\\\\\\\\\\\\/4oh4.php\\\\\":1,\\\\\"\\\\\\\\\\\\/autologin.php\\\\\":1,\\\\\"\\\\\\\\\\\\/birthday_help.php\\\\\":1,\\\\\"\\\\\\\\\\\\/checkpoint\\\\\\\\\\\\/\\\\\":1,\\\\\"\\\\\\\\\\\\/contact-importer\\\\\\\\\\\\/\\\\\":1,\\\\\"\\\\\\\\\\\\/cr.php\\\\\":1,\\\\\"\\\\\\\\\\\\/legal\\\\\\\\\\\\/terms\\\\\\\\\\\\/\\\\\":1,\\\\\"\\\\\\\\\\\\/login.php\\\\\":1,\\\\\"\\\\\\\\\\\\/login\\\\\\\\\\\\/\\\\\":1,\\\\\"\\\\\\\\\\\\/mobile\\\\\\\\\\\\/account\\\\\\\\\\\\/\\\\\":1,\\\\\"\\\\\\\\\\\\/n\\\\\\\\\\\\/\\\\\":1,\\\\\"\\\\\\\\\\\\/remote_test_device\\\\\\\\\\\\/\\\\\":1,\\\\\"\\\\\\\\\\\\/upsell\\\\\\\\\\\\/buy\\\\\\\\\\\\/\\\\\":1,\\\\\"\\\\\\\\\\\\/upsell\\\\\\\\\\\\/buyconfirm\\\\\\\\\\\\/\\\\\":1,\\\\\"\\\\\\\\\\\\/upsell\\\\\\\\\\\\/buyresult\\\\\\\\\\\\/\\\\\":1,\\\\\"\\\\\\\\\\\\/upsell\\\\\\\\\\\\/promos\\\\\\\\\\\\/\\\\\":1,\\\\\"\\\\\\\\\\\\/upsell\\\\\\\\\\\\/continue\\\\\\\\\\\\/\\\\\":1,\\\\\"\\\\\\\\\\\\/upsell\\\\\\\\\\\\/h\\\\\\\\\\\\/promos\\\\\\\\\\\\/\\\\\":1,\\\\\"\\\\\\\\\\\\/upsell\\\\\\\\\\\\/loan\\\\\\\\\\\\/learnmore\\\\\\\\\\\\/\\\\\":1,\\\\\"\\\\\\\\\\\\/upsell\\\\\\\\\\\\/purchase\\\\\\\\\\\\/\\\\\":1,\\\\\"\\\\\\\\\\\\/upsell\\\\\\\\\\\\/promos\\\\\\\\\\\\/upgrade\\\\\\\\\\\\/\\\\\":1,\\\\\"\\\\\\\\\\\\/upsell\\\\\\\\\\\\/buy_redirect\\\\\\\\\\\\/\\\\\":1,\\\\\"\\\\\\\\\\\\/upsell\\\\\\\\\\\\/loan\\\\\\\\\\\\/buyconfirm\\\\\\\\\\\\/\\\\\":1,\\\\\"\\\\\\\\\\\\/upsell\\\\\\\\\\\\/loan\\\\\\\\\\\\/buy\\\\\\\\\\\\/\\\\\":1,\\\\\"\\\\\\\\\\\\/upsell\\\\\\\\\\\\/sms\\\\\\\\\\\\/\\\\\":1,\\\\\"\\\\\\\\\\\\/wap\\\\\\\\\\\\/a\\\\\\\\\\\\/channel\\\\\\\\\\\\/reconnect.php\\\\\":1,\\\\\"\\\\\\\\\\\\/wap\\\\\\\\\\\\/a\\\\\\\\\\\\/nux\\\\\\\\\\\\/wizard\\\\\\\\\\\\/nav.php\\\\\":1,\\\\\"\\\\\\\\\\\\/wap\\\\\\\\\\\\/appreg.php\\\\\":1,\\\\\"\\\\\\\\\\\\/wap\\\\\\\\\\\\/birthday_help.php\\\\\":1,\\\\\"\\\\\\\\\\\\/wap\\\\\\\\\\\\/c.php\\\\\":1,\\\\\"\\\\\\\\\\\\/wap\\\\\\\\\\\\/confirmemail.php\\\\\":1,\\\\\"\\\\\\\\\\\\/wap\\\\\\\\\\\\/cr.php\\\\\":1,\\\\\"\\\\\\\\\\\\/wap\\\\\\\\\\\\/login.php\\\\\":1,\\\\\"\\\\\\\\\\\\/wap\\\\\\\\\\\\/r.php\\\\\":1,\\\\\"\\\\\\\\\\\\/zero\\\\\\\\\\\\/datapolicy\\\\\":1,\\\\\"\\\\\\\\\\\\/a\\\\\\\\\\\\/timezone.php\\\\\":1,\\\\\"\\\\\\\\\\\\/a\\\\\\\\\\\\/bz\\\\\":1,\\\\\"\\\\\\\\\\\\/bz\\\\\\\\\\\\/reliability\\\\\":1,\\\\\"\\\\\\\\\\\\/r.php\\\\\":1,\\\\\"\\\\\\\\\\\\/mr\\\\\\\\\\\\/\\\\\":1,\\\\\"\\\\\\\\\\\\/reg\\\\\\\\\\\\/\\\\\":1,\\\\\"\\\\\\\\\\\\/registration\\\\\\\\\\\\/log\\\\\\\\\\\\/\\\\\":1,\\\\\"\\\\\\\\\\\\/terms\\\\\\\\\\\\/\\\\\":1,\\\\\"\\\\\\\\\\\\/f123\\\\\\\\\\\\/\\\\\":1,\\\\\"\\\\\\\\\\\\/expert\\\\\\\\\\\\/\\\\\":1,\\\\\"\\\\\\\\\\\\/experts\\\\\\\\\\\\/\\\\\":1,\\\\\"\\\\\\\\\\\\/terms\\\\\\\\\\\\/index.php\\\\\":1,\\\\\"\\\\\\\\\\\\/terms.php\\\\\":1,\\\\\"\\\\\\\\\\\\/srr\\\\\\\\\\\\/\\\\\":1,\\\\\"\\\\\\\\\\\\/msite\\\\\\\\\\\\/redirect\\\\\\\\\\\\/\\\\\":1,\\\\\"\\\\\\\\\\\\/fbs\\\\\\\\\\\\/pixel\\\\\\\\\\\\/\\\\\":1,\\\\\"\\\\\\\\\\\\/contactpoint\\\\\\\\\\\\/preconfirmation\\\\\\\\\\\\/\\\\\":1,\\\\\"\\\\\\\\\\\\/contactpoint\\\\\\\\\\\\/cliff\\\\\\\\\\\\/\\\\\":1,\\\\\"\\\\\\\\\\\\/contactpoint\\\\\\\\\\\\/confirm\\\\\\\\\\\\/submit\\\\\\\\\\\\/\\\\\":1,\\\\\"\\\\\\\\\\\\/contactpoint\\\\\\\\\\\\/confirmed\\\\\\\\\\\\/\\\\\":1,\\\\\"\\\\\\\\\\\\/contactpoint\\\\\\\\\\\\/login\\\\\\\\\\\\/\\\\\":1,\\\\\"\\\\\\\\\\\\/preconfirmation\\\\\\\\\\\\/contactpoint_change\\\\\\\\\\\\/\\\\\":1,\\\\\"\\\\\\\\\\\\/help\\\\\\\\\\\\/contact\\\\\\\\\\\\/\\\\\":1,\\\\\"\\\\\\\\\\\\/survey\\\\\\\\\\\\/\\\\\":1,\\\\\"\\\\\\\\\\\\/upsell\\\\\\\\\\\\/loyaltytopup\\\\\\\\\\\\/accept\\\\\\\\\\\\/\\\\\":1,\\\\\"\\\\\\\\\\\\/settings\\\\\\\\\\\\/\\\\\":1,\\\\\"\\\\\\\\\\\\/lite\\\\\\\\\\\\/\\\\\":1,\\\\\"\\\\\\\\\\\\/zero_status_update\\\\\\\\\\\\/\\\\\":1,\\\\\"\\\\\\\\\\\\/operator_store\\\\\\\\\\\\/\\\\\":1,\\\\\"\\\\\\\\\\\\/upsell\\\\\\\\\\\\/\\\\\":1,\\\\\"\\\\\\\\\\\\/wifiauth\\\\\\\\\\\\/login\\\\\\\\\\\\/\\\\\":1}},1478],[\\\\\"PromiseUsePolyfillSetImmediateGK\\\\\",[],{\\\\\"www_always_use_polyfill_setimmediate\\\\\":false},2190],[\\\\\"KSConfig\\\\\",[],{\\\\\"killed\\\\\":{\\\\\"__set\\\\\":[\\\\\"MLHUB_FLOW_AUTOREFRESH_SEARCH\\\\\",\\\\\"NEKO_DISABLE_CREATE_FOR_SAP\\\\\",\\\\\"EO_DISABLE_SYSTEM_SERIAL_NUMBER_FREE_TYPING_IN_CPE_NON_CLIENT\\\\\",\\\\\"MOBILITY_KILL_OLD_VISIBILITY_POSITION_SETTING\\\\\",\\\\\"WORKPLACE_DISPLAY_TEXT_EVIDENCE_REPORTING\\\\\",\\\\\"BUSINESS_INVITE_FLOW_WITH_SELLER_PROFILE\\\\\",\\\\\"BUY_AT_UI_LINE_DELETE\\\\\",\\\\\"BUSINESS_GRAPH_SETTING_APP_ASSIGNED_USERS_NEW_API\\\\\",\\\\\"BUSINESS_GRAPH_SETTING_BU_ASSIGNED_USERS_NEW_API\\\\\",\\\\\"BUSINESS_GRAPH_SETTING_ESG_ASSIGNED_USERS_NEW_API\\\\\",\\\\\"BUSINESS_GRAPH_SETTING_PRODUCT_CATALOG_ASSIGNED_USERS_NEW_API\\\\\",\\\\\"BUSINESS_GRAPH_SETTING_SESG_ASSIGNED_USERS_NEW_API\\\\\",\\\\\"BUSINESS_GRAPH_SETTING_WABA_ASSIGNED_USERS_NEW_API\\\\\",\\\\\"ADS_PLACEMENT_FIX_PUBLISHER_PLATFORMS_MUTATION\\\\\",\\\\\"FORCE_FETCH_BOOSTED_COMPONENT_AFTER_ADS_CREATION\\\\\",\\\\\"VIDEO_DIMENSIONS_FROM_PLAYER_IN_UPLOAD_DIALOG\\\\\",\\\\\"SNIVY_GROUP_BY_EVENT_TRACE_ID_AND_NAME\\\\\",\\\\\"ADS_STORE_VISITS_METRICS_DEPRECATION\\\\\",\\\\\"AD_DRAFT_ENABLE_SYNCRHONOUS_FRAGMENT_VALIDATION\\\\\",\\\\\"SEPARATE_MESSAGING_COMACTIVITY_PAGE_PERMS\\\\\",\\\\\"LAB_NET_NEW_UI_RELEASE\\\\\",\\\\\"POCKET_MONSTERS_CREATE\\\\\",\\\\\"POCKET_MONSTERS_DELETE\\\\\",\\\\\"SRT_BANZAI_SRT_CORE_LOGGER\\\\\",\\\\\"SRT_BANZAI_SRT_MAIN_LOGGER\\\\\",\\\\\"WORKPLACE_PLATFORM_SECURE_APPS_MAILBOXES\\\\\",\\\\\"POCKET_MONSTERS_UPDATE_NAME\\\\\",\\\\\"IC_DISABLE_MERGE_TOOL_FEED_CHECK_FOR_REPLACE_SCHEDULE\\\\\",\\\\\"ADS_EPD_IMPACTED_ADVERTISER_MIGRATE_XCONTROLLER\\\\\",\\\\\"RECRUITING_CANDIDATE_PORTAL_ACCOUNT_DELETION_CARD\\\\\",\\\\\"BIZ_INBOX_POP_UP_TIP_NAVIGATION_BUG_FIX\\\\\",\\\\\"SRT_REVIEW_DISABLE_FELLOWSHIP_REVIEW\\\\\",\\\\\"EO_STORE_HOME_PAGE_COVID19_BANNER\\\\\"]},\\\\\"ko\\\\\":{\\\\\"__set\\\\\":[\\\\\"3OsLvnSHNTt\\\\\",\\\\\"1G7wJ6bJt9K\\\\\",\\\\\"9NpkGYwzrPG\\\\\",\\\\\"3oh5Mw86USj\\\\\",\\\\\"8NAceEy9JZo\\\\\",\\\\\"7FOIzos6XJX\\\\\",\\\\\"rf8JEPGgOi\\\\\",\\\\\"4j36SVzvP3w\\\\\",\\\\\"4NSq3ZC4ScE\\\\\",\\\\\"53gCxKq281G\\\\\",\\\\\"3yzzwBY7Npj\\\\\",\\\\\"1onzIv0jH6H\\\\\",\\\\\"8PlKuowafe8\\\\\",\\\\\"1ntjZ2zgf03\\\\\",\\\\\"4SIH2GRVX5W\\\\\",\\\\\"2dhqRnqXGLQ\\\\\",\\\\\"2WgiNOrHVuC\\\\\",\\\\\"amKHb4Cw4WI\\\\\",\\\\\"8rDvN9vWdAK\\\\\",\\\\\"5BdzWGmfvrA\\\\\",\\\\\"DDZhogI19W\\\\\",\\\\\"acrJTh9WGdp\\\\\",\\\\\"1oOE64fL4wO\\\\\",\\\\\"9Gd8qgRxn8z\\\\\",\\\\\"MPMaqnqZ9c\\\\\",\\\\\"5XCz1h9Iaw3\\\\\",\\\\\"7r6mSP7ofr2\\\\\",\\\\\"6DGPLrRdyts\\\\\",\\\\\"aWxCyi1sEC7\\\\\",\\\\\"9kCSDzzr8fu\\\\\",\\\\\"awYA7fn2Bse\\\\\",\\\\\"aBMlJ8QRPWE\\\\\",\\\\\"Fl3bH3ozLe\\\\\"]}},2580],[\\\\\"JSErrorLoggingConfig\\\\\",[],{\\\\\"appId\\\\\":412378670482,\\\\\"extra\\\\\":[],\\\\\"reportInterval\\\\\":50,\\\\\"sampleWeight\\\\\":null,\\\\\"sampleWeightKey\\\\\":\\\\\"__jssesw\\\\\",\\\\\"projectBlocklist\\\\\":[]},2776],[\\\\\"CookieCoreLoggingConfig\\\\\",[],{\\\\\"maximumIgnorableStallMs\\\\\":16.67,\\\\\"sampleRate\\\\\":9.7e-5,\\\\\"sampleRateClassic\\\\\":1.0e-10,\\\\\"sampleRateFastStale\\\\\":1.0e-8},3401],[\\\\\"IntlNumberTypeConfig\\\\\",[],{\\\\\"impl\\\\\":\\\\\"return IntlVariations.NUMBER_OTHER;\\\\\"},3405],[\\\\\"ImmediateImplementationExperiments\\\\\",[],{\\\\\"prefer_message_channel\\\\\":true},3419],[\\\\\"UriNeedRawQuerySVConfig\\\\\",[],{\\\\\"uris\\\\\":[\\\\\"dms.netmng.com\\\\\",\\\\\"doubleclick.net\\\\\",\\\\\"r.msn.com\\\\\",\\\\\"watchit.sky.com\\\\\",\\\\\"graphite.instagram.com\\\\\",\\\\\"www.kfc.co.th\\\\\",\\\\\"learn.pantheon.io\\\\\",\\\\\"www.landmarkshops.in\\\\\",\\\\\"www.ncl.com\\\\\",\\\\\"s0.wp.com\\\\\",\\\\\"www.tatacliq.com\\\\\",\\\\\"bs.serving-sys.com\\\\\",\\\\\"kohls.com\\\\\",\\\\\"lazada.co.th\\\\\",\\\\\"xg4ken.com\\\\\",\\\\\"technopark.ru\\\\\",\\\\\"officedepot.com.mx\\\\\",\\\\\"bestbuy.com.mx\\\\\",\\\\\"booking.com\\\\\",\\\\\"nibio.no\\\\\"]},3871],[\\\\\"RunGatingConfig\\\\\",[],{\\\\\"shouldUseBrowserUnload\\\\\":true},3914],[\\\\\"InitialCookieConsent\\\\\",[],{\\\\\"deferCookies\\\\\":false,\\\\\"initialConsent\\\\\":{\\\\\"__set\\\\\":[1,2]},\\\\\"noCookies\\\\\":false,\\\\\"shouldShowCookieBanner\\\\\":false},4328],[\\\\\"TrustedTypesConfig\\\\\",[],{\\\\\"useTrustedTypes\\\\\":false,\\\\\"reportOnly\\\\\":false},4548],[\\\\\"WebConnectionClassServerGuess\\\\\",[],{\\\\\"connectionClass\\\\\":\\\\\"EXCELLENT\\\\\"},4705],[\\\\\"BootloaderEndpointConfig\\\\\",[],{\\\\\"debugNoBatching\\\\\":false,\\\\\"endpointURI\\\\\":\\\\\"https:\\\\\\\\\\\\/\\\\\\\\\\\\/m.facebook.com\\\\\\\\\\\\/ajax\\\\\\\\\\\\/bootloader-endpoint\\\\\\\\\\\\/\\\\\"},5094],[\\\\\"CookieConsentIFrameConfig\\\\\",[],{\\\\\"consent_param\\\\\":\\\\\"FQAREhIA.ARaIm6IS4BvnaqjydiQUxQ3xlszYvopzGrH-oTKHqalAtBJ3\\\\\",\\\\\"allowlisted_iframes\\\\\":[]},5540],[\\\\\"USIDMetadata\\\\\",[],{\\\\\"browser_id\\\\\":\\\\\"?\\\\\",\\\\\"tab_id\\\\\":\\\\\"\\\\\",\\\\\"page_id\\\\\":\\\\\"Prknpjb1mi0mnv\\\\\",\\\\\"transition_id\\\\\":0,\\\\\"version\\\\\":6},5888],[\\\\\"ServerTimeData\\\\\",[],{\\\\\"serverTime\\\\\":1667285255935,\\\\\"timeOfRequestStart\\\\\":1667285253910.5,\\\\\"timeOfResponseStart\\\\\":1667285253910.5},5943],[\\\\\"MRegTopDomainsConfig\\\\\",[],{\\\\\"topEmailDomains\\\\\":[\\\\\"gmail.com\\\\\",\\\\\"naver.com\\\\\",\\\\\"hanmail.net\\\\\",\\\\\"daum.net\\\\\",\\\\\"nate.com\\\\\"]},4220],[\\\\\"AnalyticsCoreData\\\\\",[],{\\\\\"device_id\\\\\":\\\\\"$^|AcYzTV9J7wef-UoqjSyikisbbGWYO4f6Ka0I58wYP63z6cfYtef1xr4VuAsA9_Pksg-hBSzcOVtMrp5SJvEMlUyXqSpayh8|fd.Aca9YGSAP05zPN4Ht7Y_v3Z9G7BzE4iicZ5vZQy3DvoG7IEr_7V_zc_GuejXWmu9hGYFQl-XQE0nbYIie3U_A91j\\\\\",\\\\\"app_id\\\\\":\\\\\"412378670482\\\\\",\\\\\"enable_bladerunner\\\\\":false,\\\\\"enable_ack\\\\\":true,\\\\\"push_phase\\\\\":\\\\\"C3\\\\\",\\\\\"enable_observer\\\\\":false,\\\\\"enable_dataloss_timer\\\\\":false,\\\\\"enable_fallback_for_br\\\\\":true,\\\\\"fix_br_init_rc\\\\\":false,\\\\\"queue_activation_experiment\\\\\":false,\\\\\"max_delay_br_queue\\\\\":60000,\\\\\"max_delay_br_queue_immediate\\\\\":3},5237],[\\\\\"CurrentUserInitialData\\\\\",[],{\\\\\"ACCOUNT_ID\\\\\":\\\\\"0\\\\\",\\\\\"USER_ID\\\\\":\\\\\"0\\\\\",\\\\\"NAME\\\\\":\\\\\"\\\\\",\\\\\"SHORT_NAME\\\\\":null,\\\\\"IS_BUSINESS_PERSON_ACCOUNT\\\\\":false,\\\\\"HAS_SECONDARY_BUSINESS_PERSON\\\\\":false,\\\\\"IS_FACEBOOK_WORK_ACCOUNT\\\\\":false,\\\\\"IS_MESSENGER_ONLY_USER\\\\\":false,\\\\\"IS_DEACTIVATED_ALLOWED_ON_MESSENGER\\\\\":false,\\\\\"IS_MESSENGER_CALL_GUEST_USER\\\\\":false,\\\\\"IS_WORK_MESSENGER_CALL_GUEST_USER\\\\\":false,\\\\\"IS_WORKROOMS_USER\\\\\":false,\\\\\"APP_ID\\\\\":\\\\\"412378670482\\\\\",\\\\\"IS_BUSINESS_DOMAIN\\\\\":false},270],[\\\\\"cr:686\\\\\",[],{\\\\\"__rc\\\\\":[null,\\\\\"Aa10n39jivbeM1bN7vLOTZXiZrgY_Rb7qzNTjYy_e5C3nIG-GLcSfsMQZqdJdRvdaz2bIbw3ZMJCOJtFY1Dg8QQwxw\\\\\"]},-1],[\\\\\"cr:696703\\\\\",[],{\\\\\"__rc\\\\\":[null,\\\\\"Aa2TF-XavOf9uGIoXEFXlS4BasqDjn4YTq4k-rdi72yTOpXaeqIgYbKYQvFoe4Y1iTwBYl7rPiLX7fijf7iXAlhKF4g\\\\\"]},-1],[\\\\\"cr:717822\\\\\",[\\\\\"TimeSliceImpl\\\\\"],{\\\\\"__rc\\\\\":[\\\\\"TimeSliceImpl\\\\\",\\\\\"Aa2TF-XavOf9uGIoXEFXlS4BasqDjn4YTq4k-rdi72yTOpXaeqIgYbKYQvFoe4Y1iTwBYl7rPiLX7fijf7iXAlhKF4g\\\\\"]},-1],[\\\\\"cr:1069930\\\\\",[],{\\\\\"__rc\\\\\":[null,\\\\\"Aa2TF-XavOf9uGIoXEFXlS4BasqDjn4YTq4k-rdi72yTOpXaeqIgYbKYQvFoe4Y1iTwBYl7rPiLX7fijf7iXAlhKF4g\\\\\"]},-1],[\\\\\"cr:1083116\\\\\",[\\\\\"XAsyncRequest\\\\\"],{\\\\\"__rc\\\\\":[\\\\\"XAsyncRequest\\\\\",\\\\\"Aa2TF-XavOf9uGIoXEFXlS4BasqDjn4YTq4k-rdi72yTOpXaeqIgYbKYQvFoe4Y1iTwBYl7rPiLX7fijf7iXAlhKF4g\\\\\"]},-1],[\\\\\"cr:1083117\\\\\",[],{\\\\\"__rc\\\\\":[null,\\\\\"Aa2TF-XavOf9uGIoXEFXlS4BasqDjn4YTq4k-rdi72yTOpXaeqIgYbKYQvFoe4Y1iTwBYl7rPiLX7fijf7iXAlhKF4g\\\\\"]},-1],[\\\\\"cr:1642797\\\\\",[\\\\\"BanzaiBase\\\\\"],{\\\\\"__rc\\\\\":[\\\\\"BanzaiBase\\\\\",\\\\\"Aa2TF-XavOf9uGIoXEFXlS4BasqDjn4YTq4k-rdi72yTOpXaeqIgYbKYQvFoe4Y1iTwBYl7rPiLX7fijf7iXAlhKF4g\\\\\"]},-1],[\\\\\"cr:1984081\\\\\",[],{\\\\\"__rc\\\\\":[null,\\\\\"Aa2qAzCN6hOEI8MTKkAaW65gLTem4tttGRzEMyJCPdAyfMhSrgOuHQLrWBHPgosIiPM4C0G4kGdnJ16489il0ZE16VxU\\\\\"]},-1],[\\\\\"cr:1094907\\\\\",[],{\\\\\"__rc\\\\\":[null,\\\\\"Aa1kFTud4CvNBNvF8z8p-A1IN5BSgI9NZMADTbQVb9Fv-xA9mqA8HCHKO8dw4C_3Vit4h8tdnU7vhfXdPHyNA1Q\\\\\"]},-1],[\\\\\"MBanzaiConfig\\\\\",[],{\\\\\"MAX_SIZE\\\\\":10000,\\\\\"MAX_WAIT\\\\\":30000,\\\\\"MIN_WAIT\\\\\":null,\\\\\"RESTORE_WAIT\\\\\":30000,\\\\\"blacklist\\\\\":[\\\\\"time_spent\\\\\"],\\\\\"disabled\\\\\":false,\\\\\"gks\\\\\":{\\\\\"platform_oauth_client_events\\\\\":true,\\\\\"boosted_pagelikes\\\\\":true},\\\\\"known_routes\\\\\":[\\\\\"artillery_javascript_actions\\\\\",\\\\\"artillery_javascript_trace\\\\\",\\\\\"artillery_logger_data\\\\\",\\\\\"logger\\\\\",\\\\\"falco\\\\\",\\\\\"gk2_exposure\\\\\",\\\\\"js_error_logging\\\\\",\\\\\"loom_trace\\\\\",\\\\\"marauder\\\\\",\\\\\"perfx_custom_logger_endpoint\\\\\",\\\\\"qex\\\\\",\\\\\"require_cond_exposure_logging\\\\\"],\\\\\"should_drop_unknown_routes\\\\\":true,\\\\\"should_log_unknown_routes\\\\\":false},32],[\\\\\"cr:692209\\\\\",[\\\\\"cancelIdleCallbackBlue\\\\\"],{\\\\\"__rc\\\\\":[\\\\\"cancelIdleCallbackBlue\\\\\",\\\\\"Aa2TF-XavOf9uGIoXEFXlS4BasqDjn4YTq4k-rdi72yTOpXaeqIgYbKYQvFoe4Y1iTwBYl7rPiLX7fijf7iXAlhKF4g\\\\\"]},-1]],\\\\\"require\\\\\":[[\\\\\"MLoginController\\\\\",\\\\\"redirect\\\\\",[],[\\\\\"https:\\\\\\\\\\\\/\\\\\\\\\\\\/m.facebook.com\\\\\\\\\\\\/login\\\\\\\\\\\\/save-device\\\\\\\\\\\\/?login_source=login#_=_\\\\\"]],[\\\\\"FbtLogging\\\\\"],[\\\\\"IntlQtEventFalcoEvent\\\\\"],[\\\\\"BanzaiScuba_DEPRECATED\\\\\"],[\\\\\"RequireDeferredReference\\\\\",\\\\\"unblock\\\\\",[],[[\\\\\"FbtLogging\\\\\",\\\\\"IntlQtEventFalcoEvent\\\\\",\\\\\"BanzaiScuba_DEPRECATED\\\\\"],\\\\\"sd\\\\\"]],[\\\\\"RequireDeferredReference\\\\\",\\\\\"unblock\\\\\",[],[[\\\\\"FbtLogging\\\\\",\\\\\"IntlQtEventFalcoEvent\\\\\",\\\\\"BanzaiScuba_DEPRECATED\\\\\"],\\\\\"css\\\\\"]]]});\"}],\"contentless_response\":false,\"normalResources\":[\"rpHho\\\\/K\",\"pEv72tm\",\"tJmzuJG\",\"8dU+m8O\",\"\\\\/rO0lbn\",\"72Xn8V4\",\"O3JD5n7\",\"obI7cWr\",\"dRvaJiX\",\"gHweKw2\"],\"displayResources\":[\"2Am18r+\",\"6AwbckP\"],\"hsrp\":{\"hsdp\":{\"bxData\":{\"875231\":{\"uri\":\"https:\\\\/\\\\/static.xx.fbcdn.net\\\\/rsrc.php\\\\/yD\\\\/r\\\\/d4ZIVX-5C-b.ico\"}},\"clpData\":{\"1744178\":{\"r\":1,\"s\":1},\"1814852\":{\"r\":1},\"1838142\":{\"r\":1,\"s\":1},\"1848815\":{\"r\":10000,\"s\":1},\"1949898\":{\"r\":1}},\"gkxData\":{\"2772\":{\"result\":false,\"hash\":\"AT5Eu244WIce7iwqoqs\"},\"3752\":{\"result\":false,\"hash\":\"AT6eS5UTkkMp_xbP3Og\"},\"3820\":{\"result\":false,\"hash\":\"AT6sMf-XMjfPaRKv3Ow\"},\"3831\":{\"result\":false,\"hash\":\"AT4W23lQ0XxAZniMuS0\"},\"4075\":{\"result\":false,\"hash\":\"AT4_ZQi0sTjSt-RxyNo\"},\"8126\":{\"result\":false,\"hash\":\"AT4U7qG06p9sF6u8h8k\"},\"676781\":{\"result\":false,\"hash\":\"AT4-DnA47xPbjtkwOBA\"},\"676837\":{\"result\":false,\"hash\":\"AT4N8wBZA8ctCdHw2LA\"},\"708253\":{\"result\":false,\"hash\":\"AT5n4hBL3YTMnQWtxw8\"},\"712819\":{\"result\":false,\"hash\":\"AT79nTpb4gT-yu86DsU\"},\"996940\":{\"result\":false,\"hash\":\"AT7opYuEGy3sjG1a8J0\"},\"1167394\":{\"result\":false,\"hash\":\"AT7BpN-tlUPwbIIFiGM\"},\"1217157\":{\"result\":false,\"hash\":\"AT6B7YmllOsArnK6sK0\"},\"1224637\":{\"result\":false,\"hash\":\"AT7JRluWxuwDm3Xzi-s\"},\"1263340\":{\"result\":false,\"hash\":\"AT5bwizWgDaFQudmgh0\"},\"1554827\":{\"result\":false,\"hash\":\"AT7zueGLhGo0cT5xvFc\"},\"1738486\":{\"result\":false,\"hash\":\"AT4cX37oQco6DwhUQQk\"}},\"qplData\":{\"891\":{\"r\":1}}},\"hblp\":{\"consistency\":{\"rev\":1006508415},\"rsrcMap\":{\"VvVFw8n\":{\"type\":\"js\",\"src\":\"https:\\\\/\\\\/static.xx.fbcdn.net\\\\/rsrc.php\\\\/v3\\\\/yn\\\\/r\\\\/AWepvf-vdZG.js?_nc_x=Ij3Wp8lg5Kz\",\"nc\":1},\"rpHho\\\\/K\":{\"type\":\"js\",\"src\":\"https:\\\\/\\\\/static.xx.fbcdn.net\\\\/rsrc.php\\\\/v3\\\\/yD\\\\/r\\\\/uUvIfDXZqap.js?_nc_x=Ij3Wp8lg5Kz\",\"nc\":1},\"pEv72tm\":{\"type\":\"js\",\"src\":\"https:\\\\/\\\\/static.xx.fbcdn.net\\\\/rsrc.php\\\\/v3ibqD4\\\\/yb\\\\/l\\\\/ko_KR\\\\/aRLdzCIOkSL.js?_nc_x=Ij3Wp8lg5Kz\",\"nc\":1},\"tJmzuJG\":{\"type\":\"js\",\"src\":\"https:\\\\/\\\\/static.xx.fbcdn.net\\\\/rsrc.php\\\\/v3irfZ4\\\\/y4\\\\/l\\\\/ko_KR\\\\/2EzmyFG7weW.js?_nc_x=Ij3Wp8lg5Kz\",\"nc\":1},\"8dU+m8O\":{\"type\":\"js\",\"src\":\"https:\\\\/\\\\/static.xx.fbcdn.net\\\\/rsrc.php\\\\/v3\\\\/yD\\\\/r\\\\/SK2iRi-O1A_.js?_nc_x=Ij3Wp8lg5Kz\",\"nc\":1},\"\\\\/rO0lbn\":{\"type\":\"js\",\"src\":\"https:\\\\/\\\\/static.xx.fbcdn.net\\\\/rsrc.php\\\\/v3\\\\/yw\\\\/r\\\\/4TMVbUB_6zo.js?_nc_x=Ij3Wp8lg5Kz\",\"nc\":1},\"72Xn8V4\":{\"type\":\"js\",\"src\":\"https:\\\\/\\\\/static.xx.fbcdn.net\\\\/rsrc.php\\\\/v3iRgm4\\\\/y_\\\\/l\\\\/ko_KR\\\\/GblxIEPSCUa.js?_nc_x=Ij3Wp8lg5Kz\",\"nc\":1},\"O3JD5n7\":{\"type\":\"js\",\"src\":\"https:\\\\/\\\\/static.xx.fbcdn.net\\\\/rsrc.php\\\\/v3ir4D4\\\\/yD\\\\/l\\\\/ko_KR\\\\/qf77s2RyUcY.js?_nc_x=Ij3Wp8lg5Kz\",\"nc\":1},\"obI7cWr\":{\"type\":\"js\",\"src\":\"https:\\\\/\\\\/static.xx.fbcdn.net\\\\/rsrc.php\\\\/v3iK8O4\\\\/yN\\\\/l\\\\/ko_KR\\\\/SrcG2ecL6E6.js?_nc_x=Ij3Wp8lg5Kz\",\"nc\":1},\"dRvaJiX\":{\"type\":\"js\",\"src\":\"https:\\\\/\\\\/static.xx.fbcdn.net\\\\/rsrc.php\\\\/v3\\\\/yn\\\\/r\\\\/lNCIXQG6fuL.js?_nc_x=Ij3Wp8lg5Kz\",\"nc\":1},\"gHweKw2\":{\"type\":\"js\",\"src\":\"https:\\\\/\\\\/static.xx.fbcdn.net\\\\/rsrc.php\\\\/v3\\\\/yf\\\\/r\\\\/cj1iNQwRxsb.js?_nc_x=Ij3Wp8lg5Kz\",\"nc\":1},\"2Am18r+\":{\"type\":\"css\",\"src\":\"https:\\\\/\\\\/static.xx.fbcdn.net\\\\/rsrc.php\\\\/v3\\\\/ye\\\\/l\\\\/0,cross\\\\/m_FgKvVtyV2.css?_nc_x=Ij3Wp8lg5Kz\",\"nc\":1},\"6AwbckP\":{\"type\":\"css\",\"src\":\"https:\\\\/\\\\/static.xx.fbcdn.net\\\\/rsrc.php\\\\/v3\\\\/ye\\\\/l\\\\/0,cross\\\\/ZbMEqWtKpxV.css?_nc_x=Ij3Wp8lg5Kz\",\"nc\":1}},\"compMap\":{\"QPLInspector\":{\"r\":[\"VvVFw8n\"],\"be\":1},\"ODS\":{\"r\":[\"rpHho\\\\/K\"],\"be\":1}}}}}}'"
      ]
     },
     "execution_count": 14,
     "metadata": {},
     "output_type": "execute_result"
    }
   ],
   "source": [
    "resp.text"
   ]
  },
  {
   "cell_type": "code",
   "execution_count": 15,
   "id": "18055239",
   "metadata": {},
   "outputs": [
    {
     "data": {
      "text/plain": [
       "{'payload': {'actions': [{'cmd': 'append',\n",
       "    'target': 'static_templates',\n",
       "    'html': '',\n",
       "    'replaceifexists': True},\n",
       "   {'cmd': 'script',\n",
       "    'type': 'onload',\n",
       "    'code': '(new (require(\"ServerJS\"))()).handle({\"define\":[[\"IntlCurrentLocale\",[],{\"code\":\"ko_KR\"},5954],[\"CometPersistQueryParams\",[],{\"relative\":{},\"domain\":{}},6231],[\"CookieDomain\",[],{\"domain\":\"facebook.com\"},6421],[\"IntlVariationHoldout\",[],{\"disable_variation\":false},6533],[\"CurrentAdAccountInitialData\",[],{\"AD_ACCOUNT_ID\":null},6828],[\"BootloaderConfig\",[],{\"deferBootloads\":false,\"jsRetries\":[200,500],\"jsRetryAbortNum\":2,\"jsRetryAbortTime\":5,\"silentDups\":false,\"hypStep4\":false,\"phdOn\":false,\"btCutoffIndex\":547,\"translationRetries\":[200,500],\"translationRetryAbortNum\":3,\"translationRetryAbortTime\":50},329],[\"CSSLoaderConfig\",[],{\"timeout\":5000,\"modulePrefix\":\"BLCSS:\",\"loadEventSupported\":true},619],[\"CookieCoreConfig\",[],{\"c_user\":{\"s\":\"None\"},\"cppo\":{\"t\":86400,\"s\":\"None\"},\"dpr\":{\"t\":604800,\"s\":\"None\"},\"fbl_ci\":{\"t\":31536000,\"s\":\"None\"},\"fbl_cs\":{\"t\":31536000,\"s\":\"None\"},\"fbl_st\":{\"t\":31536000,\"s\":\"Strict\"},\"i_user\":{\"s\":\"None\"},\"locale\":{\"t\":604800,\"s\":\"None\"},\"m_ls\":{\"t\":158284800,\"s\":\"None\"},\"m_pixel_ratio\":{\"t\":604800,\"s\":\"None\"},\"noscript\":{\"s\":\"None\"},\"presence\":{\"t\":2592000,\"s\":\"None\"},\"sfau\":{\"s\":\"None\"},\"usida\":{\"s\":\"None\"},\"vpd\":{\"t\":5184000,\"s\":\"Lax\"},\"wd\":{\"t\":604800,\"s\":\"Lax\"},\"x-referer\":{\"s\":\"None\"},\"x-src\":{\"t\":1,\"s\":\"None\"}},2104],[\"CurrentCommunityInitialData\",[],{},490],[\"FbtQTOverrides\",[],{\"overrides\":{}},551],[\"FbtResultGK\",[],{\"shouldReturnFbtResult\":true,\"inlineMode\":\"NO_INLINE\"},876],[\"ISB\",[],{},330],[\"IntlPhonologicalRules\",[],{\"meta\":{},\"patterns\":{}},1496],[\"IntlViewerContext\",[],{\"GENDER\":3,\"regionalLocale\":null},772],[\"LSD\",[],{\"token\":\"AVpWTQniSgI\"},323],[\"MJSEnvironment\",[],{\"IS_APPLE_WEBKIT_IOS\":false,\"IS_TABLET\":false,\"IS_ANDROID\":false,\"IS_CHROME\":true,\"IS_FIREFOX\":false,\"IS_WINDOWS_PHONE\":false,\"IS_SAMSUNG_DEVICE\":false,\"OS_VERSION\":10,\"PIXEL_RATIO\":1,\"BROWSER_NAME\":\"Edge (Chromium Based)\"},46],[\"MLoadingIndicatorSigils\",[],{\"ANIMATE\":\"m-loading-indicator-animate\",\"ROOT\":\"m-loading-indicator-root\"},279],[\"MRequestConfig\",[],{\"dtsg\":{\"token\":\"NAcPBvq_ooLtSf6EIKDzvt9ouNkiMtu2be1yA-b7PhebofwkkpK2z1g:0:0\",\"valid_for\":86400,\"expire\":1667371655},\"dtsg_ag\":{\"token\":\"AQzMUlBFOVjEy_dPs-AOi_GZFsVOuBTEnUEE1GOG55IVeCJu:0:0\",\"valid_for\":604800,\"expire\":1667890055},\"lsd\":\"AVpWTQniSgI\",\"checkResponseOrigin\":true,\"checkResponseToken\":true,\"cleanFinishedRequest\":false,\"cleanFinishedPrefetchRequests\":false,\"ajaxResponseToken\":{\"secret\":\"NpH-9ULehVFD4xjNK6HTpm3X2w-k-CIt\",\"encrypted\":\"AYkSHwJg3sRgU4FBF9JpnRTF7rZxJv0_0tRCMRsQYN_cwA9VYWB2j20r0BPM8QhbkXXiEs-4p1Y8Fg0ohH5muEdTRG8w2rLbEEiGhC0uC90SZQ\"}},51],[\"NumberFormatConfig\",[],{\"decimalSeparator\":\".\",\"numberDelimiter\":\",\",\"minDigitsForThousandsSeparator\":4,\"standardDecimalPatternInfo\":{\"primaryGroupSize\":3,\"secondaryGroupSize\":3},\"numberingSystemData\":null},54],[\"ServerNonce\",[],{\"ServerNonce\":\"UIo5hnHznhebIZvHv3XdPO\"},141],[\"SiteData\",[],{\"server_revision\":1006508415,\"client_revision\":1006508415,\"tier\":\"\",\"push_phase\":\"C3\",\"pkg_cohort\":\"BP:mtouch_pkg\",\"haste_session\":\"19297.BP:mtouch_pkg.2.0.0.0.0\",\"pr\":1,\"haste_site\":\"mobile\",\"manifest_base_uri\":\"https:\\\\/\\\\/static.xx.fbcdn.net\",\"manifest_origin\":null,\"be_one_ahead\":false,\"is_rtl\":false,\"is_comet\":false,\"is_experimental_tier\":false,\"is_jit_warmed_up\":true,\"hsi\":\"7160935643678717236\",\"semr_host_bucket\":\"3\",\"bl_hash_version\":2,\"skip_rd_bl\":true,\"comet_env\":0,\"wbloks_env\":false,\"spin\":0,\"__spin_r\":1006508415,\"__spin_b\":\"trunk\",\"__spin_t\":1667285253,\"vip\":\"31.13.76.35\"},317],[\"SprinkleConfig\",[],{\"param_name\":\"jazoest\",\"version\":2,\"should_randomize\":false},2111],[\"UserAgentData\",[],{\"browserArchitecture\":\"64\",\"browserFullVersion\":\"107.0.1418.26\",\"browserMinorVersion\":0,\"browserName\":\"Edge (Chromium Based)\",\"browserVersion\":107,\"deviceName\":\"Unknown\",\"engineName\":\"WebKit\",\"engineVersion\":\"537.36\",\"platformArchitecture\":\"64\",\"platformName\":\"Windows\",\"platformVersion\":\"10\",\"platformFullVersion\":\"10\"},527],[\"ZeroCategoryHeader\",[],{},1127],[\"ZeroRewriteRules\",[],{\"rewrite_rules\":{},\"whitelist\":{\"\\\\/hr\\\\/r\":1,\"\\\\/hr\\\\/p\":1,\"\\\\/zero\\\\/unsupported_browser\\\\/\":1,\"\\\\/zero\\\\/policy\\\\/optin\":1,\"\\\\/zero\\\\/optin\\\\/write\\\\/\":1,\"\\\\/zero\\\\/optin\\\\/legal\\\\/\":1,\"\\\\/zero\\\\/optin\\\\/free\\\\/\":1,\"\\\\/about\\\\/privacy\\\\/\":1,\"\\\\/about\\\\/privacy\\\\/update\\\\/\":1,\"\\\\/privacy\\\\/explanation\\\\/\":1,\"\\\\/zero\\\\/toggle\\\\/welcome\\\\/\":1,\"\\\\/zero\\\\/toggle\\\\/nux\\\\/\":1,\"\\\\/zero\\\\/toggle\\\\/settings\\\\/\":1,\"\\\\/fup\\\\/interstitial\\\\/\":1,\"\\\\/work\\\\/landing\":1,\"\\\\/work\\\\/login\\\\/\":1,\"\\\\/work\\\\/email\\\\/\":1,\"\\\\/ai.php\":1,\"\\\\/js_dialog_resources\\\\/dialog_descriptions_android.json\":0,\"\\\\/connect\\\\/jsdialog\\\\/MPlatformAppInvitesJSDialog\\\\/\":0,\"\\\\/connect\\\\/jsdialog\\\\/MPlatformOAuthShimJSDialog\\\\/\":0,\"\\\\/connect\\\\/jsdialog\\\\/MPlatformLikeJSDialog\\\\/\":0,\"\\\\/qp\\\\/interstitial\\\\/\":1,\"\\\\/qp\\\\/action\\\\/redirect\\\\/\":1,\"\\\\/qp\\\\/action\\\\/close\\\\/\":1,\"\\\\/zero\\\\/support\\\\/ineligible\\\\/\":1,\"\\\\/zero_balance_redirect\\\\/\":1,\"\\\\/zero_balance_redirect\":1,\"\\\\/zero_balance_redirect\\\\/l\\\\/\":1,\"\\\\/l.php\":1,\"\\\\/lsr.php\":1,\"\\\\/ajax\\\\/dtsg\\\\/\":1,\"\\\\/checkpoint\\\\/block\\\\/\":1,\"\\\\/exitdsite\":1,\"\\\\/zero\\\\/balance\\\\/pixel\\\\/\":1,\"\\\\/zero\\\\/balance\\\\/\":1,\"\\\\/zero\\\\/balance\\\\/carrier_landing\\\\/\":1,\"\\\\/zero\\\\/flex\\\\/logging\\\\/\":1,\"\\\\/tr\":1,\"\\\\/tr\\\\/\":1,\"\\\\/sem_campaigns\\\\/sem_pixel_test\\\\/\":1,\"\\\\/bookmarks\\\\/flyout\\\\/body\\\\/\":1,\"\\\\/zero\\\\/subno\\\\/\":1,\"\\\\/confirmemail.php\":1,\"\\\\/policies\\\\/\":1,\"\\\\/mobile\\\\/internetdotorg\\\\/classifier\\\\/\":1,\"\\\\/zero\\\\/dogfooding\":1,\"\\\\/xti.php\":1,\"\\\\/zero\\\\/fblite\\\\/config\\\\/\":1,\"\\\\/hr\\\\/zsh\\\\/wc\\\\/\":1,\"\\\\/ajax\\\\/bootloader-endpoint\\\\/\":1,\"\\\\/mobile\\\\/zero\\\\/carrier_page\\\\/\":1,\"\\\\/mobile\\\\/zero\\\\/carrier_page\\\\/education_page\\\\/\":1,\"\\\\/mobile\\\\/zero\\\\/carrier_page\\\\/feature_switch\\\\/\":1,\"\\\\/mobile\\\\/zero\\\\/carrier_page\\\\/settings_page\\\\/\":1,\"\\\\/aloha_check_build\":1,\"\\\\/upsell\\\\/zbd\\\\/softnudge\\\\/\":1,\"\\\\/mobile\\\\/zero\\\\/af_transition\\\\/\":1,\"\\\\/mobile\\\\/zero\\\\/af_transition\\\\/action\\\\/\":1,\"\\\\/mobile\\\\/zero\\\\/freemium\\\\/\":1,\"\\\\/mobile\\\\/zero\\\\/freemium\\\\/redirect\\\\/\":1,\"\\\\/mobile\\\\/zero\\\\/freemium\\\\/zero_fup\\\\/\":1,\"\\\\/privacy\\\\/policy\\\\/\":1,\"\\\\/privacy\\\\/center\\\\/\":1,\"\\\\/data\\\\/manifest\\\\/\":1,\"\\\\/4oh4.php\":1,\"\\\\/autologin.php\":1,\"\\\\/birthday_help.php\":1,\"\\\\/checkpoint\\\\/\":1,\"\\\\/contact-importer\\\\/\":1,\"\\\\/cr.php\":1,\"\\\\/legal\\\\/terms\\\\/\":1,\"\\\\/login.php\":1,\"\\\\/login\\\\/\":1,\"\\\\/mobile\\\\/account\\\\/\":1,\"\\\\/n\\\\/\":1,\"\\\\/remote_test_device\\\\/\":1,\"\\\\/upsell\\\\/buy\\\\/\":1,\"\\\\/upsell\\\\/buyconfirm\\\\/\":1,\"\\\\/upsell\\\\/buyresult\\\\/\":1,\"\\\\/upsell\\\\/promos\\\\/\":1,\"\\\\/upsell\\\\/continue\\\\/\":1,\"\\\\/upsell\\\\/h\\\\/promos\\\\/\":1,\"\\\\/upsell\\\\/loan\\\\/learnmore\\\\/\":1,\"\\\\/upsell\\\\/purchase\\\\/\":1,\"\\\\/upsell\\\\/promos\\\\/upgrade\\\\/\":1,\"\\\\/upsell\\\\/buy_redirect\\\\/\":1,\"\\\\/upsell\\\\/loan\\\\/buyconfirm\\\\/\":1,\"\\\\/upsell\\\\/loan\\\\/buy\\\\/\":1,\"\\\\/upsell\\\\/sms\\\\/\":1,\"\\\\/wap\\\\/a\\\\/channel\\\\/reconnect.php\":1,\"\\\\/wap\\\\/a\\\\/nux\\\\/wizard\\\\/nav.php\":1,\"\\\\/wap\\\\/appreg.php\":1,\"\\\\/wap\\\\/birthday_help.php\":1,\"\\\\/wap\\\\/c.php\":1,\"\\\\/wap\\\\/confirmemail.php\":1,\"\\\\/wap\\\\/cr.php\":1,\"\\\\/wap\\\\/login.php\":1,\"\\\\/wap\\\\/r.php\":1,\"\\\\/zero\\\\/datapolicy\":1,\"\\\\/a\\\\/timezone.php\":1,\"\\\\/a\\\\/bz\":1,\"\\\\/bz\\\\/reliability\":1,\"\\\\/r.php\":1,\"\\\\/mr\\\\/\":1,\"\\\\/reg\\\\/\":1,\"\\\\/registration\\\\/log\\\\/\":1,\"\\\\/terms\\\\/\":1,\"\\\\/f123\\\\/\":1,\"\\\\/expert\\\\/\":1,\"\\\\/experts\\\\/\":1,\"\\\\/terms\\\\/index.php\":1,\"\\\\/terms.php\":1,\"\\\\/srr\\\\/\":1,\"\\\\/msite\\\\/redirect\\\\/\":1,\"\\\\/fbs\\\\/pixel\\\\/\":1,\"\\\\/contactpoint\\\\/preconfirmation\\\\/\":1,\"\\\\/contactpoint\\\\/cliff\\\\/\":1,\"\\\\/contactpoint\\\\/confirm\\\\/submit\\\\/\":1,\"\\\\/contactpoint\\\\/confirmed\\\\/\":1,\"\\\\/contactpoint\\\\/login\\\\/\":1,\"\\\\/preconfirmation\\\\/contactpoint_change\\\\/\":1,\"\\\\/help\\\\/contact\\\\/\":1,\"\\\\/survey\\\\/\":1,\"\\\\/upsell\\\\/loyaltytopup\\\\/accept\\\\/\":1,\"\\\\/settings\\\\/\":1,\"\\\\/lite\\\\/\":1,\"\\\\/zero_status_update\\\\/\":1,\"\\\\/operator_store\\\\/\":1,\"\\\\/upsell\\\\/\":1,\"\\\\/wifiauth\\\\/login\\\\/\":1}},1478],[\"PromiseUsePolyfillSetImmediateGK\",[],{\"www_always_use_polyfill_setimmediate\":false},2190],[\"KSConfig\",[],{\"killed\":{\"__set\":[\"MLHUB_FLOW_AUTOREFRESH_SEARCH\",\"NEKO_DISABLE_CREATE_FOR_SAP\",\"EO_DISABLE_SYSTEM_SERIAL_NUMBER_FREE_TYPING_IN_CPE_NON_CLIENT\",\"MOBILITY_KILL_OLD_VISIBILITY_POSITION_SETTING\",\"WORKPLACE_DISPLAY_TEXT_EVIDENCE_REPORTING\",\"BUSINESS_INVITE_FLOW_WITH_SELLER_PROFILE\",\"BUY_AT_UI_LINE_DELETE\",\"BUSINESS_GRAPH_SETTING_APP_ASSIGNED_USERS_NEW_API\",\"BUSINESS_GRAPH_SETTING_BU_ASSIGNED_USERS_NEW_API\",\"BUSINESS_GRAPH_SETTING_ESG_ASSIGNED_USERS_NEW_API\",\"BUSINESS_GRAPH_SETTING_PRODUCT_CATALOG_ASSIGNED_USERS_NEW_API\",\"BUSINESS_GRAPH_SETTING_SESG_ASSIGNED_USERS_NEW_API\",\"BUSINESS_GRAPH_SETTING_WABA_ASSIGNED_USERS_NEW_API\",\"ADS_PLACEMENT_FIX_PUBLISHER_PLATFORMS_MUTATION\",\"FORCE_FETCH_BOOSTED_COMPONENT_AFTER_ADS_CREATION\",\"VIDEO_DIMENSIONS_FROM_PLAYER_IN_UPLOAD_DIALOG\",\"SNIVY_GROUP_BY_EVENT_TRACE_ID_AND_NAME\",\"ADS_STORE_VISITS_METRICS_DEPRECATION\",\"AD_DRAFT_ENABLE_SYNCRHONOUS_FRAGMENT_VALIDATION\",\"SEPARATE_MESSAGING_COMACTIVITY_PAGE_PERMS\",\"LAB_NET_NEW_UI_RELEASE\",\"POCKET_MONSTERS_CREATE\",\"POCKET_MONSTERS_DELETE\",\"SRT_BANZAI_SRT_CORE_LOGGER\",\"SRT_BANZAI_SRT_MAIN_LOGGER\",\"WORKPLACE_PLATFORM_SECURE_APPS_MAILBOXES\",\"POCKET_MONSTERS_UPDATE_NAME\",\"IC_DISABLE_MERGE_TOOL_FEED_CHECK_FOR_REPLACE_SCHEDULE\",\"ADS_EPD_IMPACTED_ADVERTISER_MIGRATE_XCONTROLLER\",\"RECRUITING_CANDIDATE_PORTAL_ACCOUNT_DELETION_CARD\",\"BIZ_INBOX_POP_UP_TIP_NAVIGATION_BUG_FIX\",\"SRT_REVIEW_DISABLE_FELLOWSHIP_REVIEW\",\"EO_STORE_HOME_PAGE_COVID19_BANNER\"]},\"ko\":{\"__set\":[\"3OsLvnSHNTt\",\"1G7wJ6bJt9K\",\"9NpkGYwzrPG\",\"3oh5Mw86USj\",\"8NAceEy9JZo\",\"7FOIzos6XJX\",\"rf8JEPGgOi\",\"4j36SVzvP3w\",\"4NSq3ZC4ScE\",\"53gCxKq281G\",\"3yzzwBY7Npj\",\"1onzIv0jH6H\",\"8PlKuowafe8\",\"1ntjZ2zgf03\",\"4SIH2GRVX5W\",\"2dhqRnqXGLQ\",\"2WgiNOrHVuC\",\"amKHb4Cw4WI\",\"8rDvN9vWdAK\",\"5BdzWGmfvrA\",\"DDZhogI19W\",\"acrJTh9WGdp\",\"1oOE64fL4wO\",\"9Gd8qgRxn8z\",\"MPMaqnqZ9c\",\"5XCz1h9Iaw3\",\"7r6mSP7ofr2\",\"6DGPLrRdyts\",\"aWxCyi1sEC7\",\"9kCSDzzr8fu\",\"awYA7fn2Bse\",\"aBMlJ8QRPWE\",\"Fl3bH3ozLe\"]}},2580],[\"JSErrorLoggingConfig\",[],{\"appId\":412378670482,\"extra\":[],\"reportInterval\":50,\"sampleWeight\":null,\"sampleWeightKey\":\"__jssesw\",\"projectBlocklist\":[]},2776],[\"CookieCoreLoggingConfig\",[],{\"maximumIgnorableStallMs\":16.67,\"sampleRate\":9.7e-5,\"sampleRateClassic\":1.0e-10,\"sampleRateFastStale\":1.0e-8},3401],[\"IntlNumberTypeConfig\",[],{\"impl\":\"return IntlVariations.NUMBER_OTHER;\"},3405],[\"ImmediateImplementationExperiments\",[],{\"prefer_message_channel\":true},3419],[\"UriNeedRawQuerySVConfig\",[],{\"uris\":[\"dms.netmng.com\",\"doubleclick.net\",\"r.msn.com\",\"watchit.sky.com\",\"graphite.instagram.com\",\"www.kfc.co.th\",\"learn.pantheon.io\",\"www.landmarkshops.in\",\"www.ncl.com\",\"s0.wp.com\",\"www.tatacliq.com\",\"bs.serving-sys.com\",\"kohls.com\",\"lazada.co.th\",\"xg4ken.com\",\"technopark.ru\",\"officedepot.com.mx\",\"bestbuy.com.mx\",\"booking.com\",\"nibio.no\"]},3871],[\"RunGatingConfig\",[],{\"shouldUseBrowserUnload\":true},3914],[\"InitialCookieConsent\",[],{\"deferCookies\":false,\"initialConsent\":{\"__set\":[1,2]},\"noCookies\":false,\"shouldShowCookieBanner\":false},4328],[\"TrustedTypesConfig\",[],{\"useTrustedTypes\":false,\"reportOnly\":false},4548],[\"WebConnectionClassServerGuess\",[],{\"connectionClass\":\"EXCELLENT\"},4705],[\"BootloaderEndpointConfig\",[],{\"debugNoBatching\":false,\"endpointURI\":\"https:\\\\/\\\\/m.facebook.com\\\\/ajax\\\\/bootloader-endpoint\\\\/\"},5094],[\"CookieConsentIFrameConfig\",[],{\"consent_param\":\"FQAREhIA.ARaIm6IS4BvnaqjydiQUxQ3xlszYvopzGrH-oTKHqalAtBJ3\",\"allowlisted_iframes\":[]},5540],[\"USIDMetadata\",[],{\"browser_id\":\"?\",\"tab_id\":\"\",\"page_id\":\"Prknpjb1mi0mnv\",\"transition_id\":0,\"version\":6},5888],[\"ServerTimeData\",[],{\"serverTime\":1667285255935,\"timeOfRequestStart\":1667285253910.5,\"timeOfResponseStart\":1667285253910.5},5943],[\"MRegTopDomainsConfig\",[],{\"topEmailDomains\":[\"gmail.com\",\"naver.com\",\"hanmail.net\",\"daum.net\",\"nate.com\"]},4220],[\"AnalyticsCoreData\",[],{\"device_id\":\"$^|AcYzTV9J7wef-UoqjSyikisbbGWYO4f6Ka0I58wYP63z6cfYtef1xr4VuAsA9_Pksg-hBSzcOVtMrp5SJvEMlUyXqSpayh8|fd.Aca9YGSAP05zPN4Ht7Y_v3Z9G7BzE4iicZ5vZQy3DvoG7IEr_7V_zc_GuejXWmu9hGYFQl-XQE0nbYIie3U_A91j\",\"app_id\":\"412378670482\",\"enable_bladerunner\":false,\"enable_ack\":true,\"push_phase\":\"C3\",\"enable_observer\":false,\"enable_dataloss_timer\":false,\"enable_fallback_for_br\":true,\"fix_br_init_rc\":false,\"queue_activation_experiment\":false,\"max_delay_br_queue\":60000,\"max_delay_br_queue_immediate\":3},5237],[\"CurrentUserInitialData\",[],{\"ACCOUNT_ID\":\"0\",\"USER_ID\":\"0\",\"NAME\":\"\",\"SHORT_NAME\":null,\"IS_BUSINESS_PERSON_ACCOUNT\":false,\"HAS_SECONDARY_BUSINESS_PERSON\":false,\"IS_FACEBOOK_WORK_ACCOUNT\":false,\"IS_MESSENGER_ONLY_USER\":false,\"IS_DEACTIVATED_ALLOWED_ON_MESSENGER\":false,\"IS_MESSENGER_CALL_GUEST_USER\":false,\"IS_WORK_MESSENGER_CALL_GUEST_USER\":false,\"IS_WORKROOMS_USER\":false,\"APP_ID\":\"412378670482\",\"IS_BUSINESS_DOMAIN\":false},270],[\"cr:686\",[],{\"__rc\":[null,\"Aa10n39jivbeM1bN7vLOTZXiZrgY_Rb7qzNTjYy_e5C3nIG-GLcSfsMQZqdJdRvdaz2bIbw3ZMJCOJtFY1Dg8QQwxw\"]},-1],[\"cr:696703\",[],{\"__rc\":[null,\"Aa2TF-XavOf9uGIoXEFXlS4BasqDjn4YTq4k-rdi72yTOpXaeqIgYbKYQvFoe4Y1iTwBYl7rPiLX7fijf7iXAlhKF4g\"]},-1],[\"cr:717822\",[\"TimeSliceImpl\"],{\"__rc\":[\"TimeSliceImpl\",\"Aa2TF-XavOf9uGIoXEFXlS4BasqDjn4YTq4k-rdi72yTOpXaeqIgYbKYQvFoe4Y1iTwBYl7rPiLX7fijf7iXAlhKF4g\"]},-1],[\"cr:1069930\",[],{\"__rc\":[null,\"Aa2TF-XavOf9uGIoXEFXlS4BasqDjn4YTq4k-rdi72yTOpXaeqIgYbKYQvFoe4Y1iTwBYl7rPiLX7fijf7iXAlhKF4g\"]},-1],[\"cr:1083116\",[\"XAsyncRequest\"],{\"__rc\":[\"XAsyncRequest\",\"Aa2TF-XavOf9uGIoXEFXlS4BasqDjn4YTq4k-rdi72yTOpXaeqIgYbKYQvFoe4Y1iTwBYl7rPiLX7fijf7iXAlhKF4g\"]},-1],[\"cr:1083117\",[],{\"__rc\":[null,\"Aa2TF-XavOf9uGIoXEFXlS4BasqDjn4YTq4k-rdi72yTOpXaeqIgYbKYQvFoe4Y1iTwBYl7rPiLX7fijf7iXAlhKF4g\"]},-1],[\"cr:1642797\",[\"BanzaiBase\"],{\"__rc\":[\"BanzaiBase\",\"Aa2TF-XavOf9uGIoXEFXlS4BasqDjn4YTq4k-rdi72yTOpXaeqIgYbKYQvFoe4Y1iTwBYl7rPiLX7fijf7iXAlhKF4g\"]},-1],[\"cr:1984081\",[],{\"__rc\":[null,\"Aa2qAzCN6hOEI8MTKkAaW65gLTem4tttGRzEMyJCPdAyfMhSrgOuHQLrWBHPgosIiPM4C0G4kGdnJ16489il0ZE16VxU\"]},-1],[\"cr:1094907\",[],{\"__rc\":[null,\"Aa1kFTud4CvNBNvF8z8p-A1IN5BSgI9NZMADTbQVb9Fv-xA9mqA8HCHKO8dw4C_3Vit4h8tdnU7vhfXdPHyNA1Q\"]},-1],[\"MBanzaiConfig\",[],{\"MAX_SIZE\":10000,\"MAX_WAIT\":30000,\"MIN_WAIT\":null,\"RESTORE_WAIT\":30000,\"blacklist\":[\"time_spent\"],\"disabled\":false,\"gks\":{\"platform_oauth_client_events\":true,\"boosted_pagelikes\":true},\"known_routes\":[\"artillery_javascript_actions\",\"artillery_javascript_trace\",\"artillery_logger_data\",\"logger\",\"falco\",\"gk2_exposure\",\"js_error_logging\",\"loom_trace\",\"marauder\",\"perfx_custom_logger_endpoint\",\"qex\",\"require_cond_exposure_logging\"],\"should_drop_unknown_routes\":true,\"should_log_unknown_routes\":false},32],[\"cr:692209\",[\"cancelIdleCallbackBlue\"],{\"__rc\":[\"cancelIdleCallbackBlue\",\"Aa2TF-XavOf9uGIoXEFXlS4BasqDjn4YTq4k-rdi72yTOpXaeqIgYbKYQvFoe4Y1iTwBYl7rPiLX7fijf7iXAlhKF4g\"]},-1]],\"require\":[[\"MLoginController\",\"redirect\",[],[\"https:\\\\/\\\\/m.facebook.com\\\\/login\\\\/save-device\\\\/?login_source=login#_=_\"]],[\"FbtLogging\"],[\"IntlQtEventFalcoEvent\"],[\"BanzaiScuba_DEPRECATED\"],[\"RequireDeferredReference\",\"unblock\",[],[[\"FbtLogging\",\"IntlQtEventFalcoEvent\",\"BanzaiScuba_DEPRECATED\"],\"sd\"]],[\"RequireDeferredReference\",\"unblock\",[],[[\"FbtLogging\",\"IntlQtEventFalcoEvent\",\"BanzaiScuba_DEPRECATED\"],\"css\"]]]});'}],\n",
       "  'contentless_response': False,\n",
       "  'normalResources': ['rpHho/K',\n",
       "   'pEv72tm',\n",
       "   'tJmzuJG',\n",
       "   '8dU+m8O',\n",
       "   '/rO0lbn',\n",
       "   '72Xn8V4',\n",
       "   'O3JD5n7',\n",
       "   'obI7cWr',\n",
       "   'dRvaJiX',\n",
       "   'gHweKw2'],\n",
       "  'displayResources': ['2Am18r+', '6AwbckP'],\n",
       "  'hsrp': {'hsdp': {'bxData': {'875231': {'uri': 'https://static.xx.fbcdn.net/rsrc.php/yD/r/d4ZIVX-5C-b.ico'}},\n",
       "    'clpData': {'1744178': {'r': 1, 's': 1},\n",
       "     '1814852': {'r': 1},\n",
       "     '1838142': {'r': 1, 's': 1},\n",
       "     '1848815': {'r': 10000, 's': 1},\n",
       "     '1949898': {'r': 1}},\n",
       "    'gkxData': {'2772': {'result': False, 'hash': 'AT5Eu244WIce7iwqoqs'},\n",
       "     '3752': {'result': False, 'hash': 'AT6eS5UTkkMp_xbP3Og'},\n",
       "     '3820': {'result': False, 'hash': 'AT6sMf-XMjfPaRKv3Ow'},\n",
       "     '3831': {'result': False, 'hash': 'AT4W23lQ0XxAZniMuS0'},\n",
       "     '4075': {'result': False, 'hash': 'AT4_ZQi0sTjSt-RxyNo'},\n",
       "     '8126': {'result': False, 'hash': 'AT4U7qG06p9sF6u8h8k'},\n",
       "     '676781': {'result': False, 'hash': 'AT4-DnA47xPbjtkwOBA'},\n",
       "     '676837': {'result': False, 'hash': 'AT4N8wBZA8ctCdHw2LA'},\n",
       "     '708253': {'result': False, 'hash': 'AT5n4hBL3YTMnQWtxw8'},\n",
       "     '712819': {'result': False, 'hash': 'AT79nTpb4gT-yu86DsU'},\n",
       "     '996940': {'result': False, 'hash': 'AT7opYuEGy3sjG1a8J0'},\n",
       "     '1167394': {'result': False, 'hash': 'AT7BpN-tlUPwbIIFiGM'},\n",
       "     '1217157': {'result': False, 'hash': 'AT6B7YmllOsArnK6sK0'},\n",
       "     '1224637': {'result': False, 'hash': 'AT7JRluWxuwDm3Xzi-s'},\n",
       "     '1263340': {'result': False, 'hash': 'AT5bwizWgDaFQudmgh0'},\n",
       "     '1554827': {'result': False, 'hash': 'AT7zueGLhGo0cT5xvFc'},\n",
       "     '1738486': {'result': False, 'hash': 'AT4cX37oQco6DwhUQQk'}},\n",
       "    'qplData': {'891': {'r': 1}}},\n",
       "   'hblp': {'consistency': {'rev': 1006508415},\n",
       "    'rsrcMap': {'VvVFw8n': {'type': 'js',\n",
       "      'src': 'https://static.xx.fbcdn.net/rsrc.php/v3/yn/r/AWepvf-vdZG.js?_nc_x=Ij3Wp8lg5Kz',\n",
       "      'nc': 1},\n",
       "     'rpHho/K': {'type': 'js',\n",
       "      'src': 'https://static.xx.fbcdn.net/rsrc.php/v3/yD/r/uUvIfDXZqap.js?_nc_x=Ij3Wp8lg5Kz',\n",
       "      'nc': 1},\n",
       "     'pEv72tm': {'type': 'js',\n",
       "      'src': 'https://static.xx.fbcdn.net/rsrc.php/v3ibqD4/yb/l/ko_KR/aRLdzCIOkSL.js?_nc_x=Ij3Wp8lg5Kz',\n",
       "      'nc': 1},\n",
       "     'tJmzuJG': {'type': 'js',\n",
       "      'src': 'https://static.xx.fbcdn.net/rsrc.php/v3irfZ4/y4/l/ko_KR/2EzmyFG7weW.js?_nc_x=Ij3Wp8lg5Kz',\n",
       "      'nc': 1},\n",
       "     '8dU+m8O': {'type': 'js',\n",
       "      'src': 'https://static.xx.fbcdn.net/rsrc.php/v3/yD/r/SK2iRi-O1A_.js?_nc_x=Ij3Wp8lg5Kz',\n",
       "      'nc': 1},\n",
       "     '/rO0lbn': {'type': 'js',\n",
       "      'src': 'https://static.xx.fbcdn.net/rsrc.php/v3/yw/r/4TMVbUB_6zo.js?_nc_x=Ij3Wp8lg5Kz',\n",
       "      'nc': 1},\n",
       "     '72Xn8V4': {'type': 'js',\n",
       "      'src': 'https://static.xx.fbcdn.net/rsrc.php/v3iRgm4/y_/l/ko_KR/GblxIEPSCUa.js?_nc_x=Ij3Wp8lg5Kz',\n",
       "      'nc': 1},\n",
       "     'O3JD5n7': {'type': 'js',\n",
       "      'src': 'https://static.xx.fbcdn.net/rsrc.php/v3ir4D4/yD/l/ko_KR/qf77s2RyUcY.js?_nc_x=Ij3Wp8lg5Kz',\n",
       "      'nc': 1},\n",
       "     'obI7cWr': {'type': 'js',\n",
       "      'src': 'https://static.xx.fbcdn.net/rsrc.php/v3iK8O4/yN/l/ko_KR/SrcG2ecL6E6.js?_nc_x=Ij3Wp8lg5Kz',\n",
       "      'nc': 1},\n",
       "     'dRvaJiX': {'type': 'js',\n",
       "      'src': 'https://static.xx.fbcdn.net/rsrc.php/v3/yn/r/lNCIXQG6fuL.js?_nc_x=Ij3Wp8lg5Kz',\n",
       "      'nc': 1},\n",
       "     'gHweKw2': {'type': 'js',\n",
       "      'src': 'https://static.xx.fbcdn.net/rsrc.php/v3/yf/r/cj1iNQwRxsb.js?_nc_x=Ij3Wp8lg5Kz',\n",
       "      'nc': 1},\n",
       "     '2Am18r+': {'type': 'css',\n",
       "      'src': 'https://static.xx.fbcdn.net/rsrc.php/v3/ye/l/0,cross/m_FgKvVtyV2.css?_nc_x=Ij3Wp8lg5Kz',\n",
       "      'nc': 1},\n",
       "     '6AwbckP': {'type': 'css',\n",
       "      'src': 'https://static.xx.fbcdn.net/rsrc.php/v3/ye/l/0,cross/ZbMEqWtKpxV.css?_nc_x=Ij3Wp8lg5Kz',\n",
       "      'nc': 1}},\n",
       "    'compMap': {'QPLInspector': {'r': ['VvVFw8n'], 'be': 1},\n",
       "     'ODS': {'r': ['rpHho/K'], 'be': 1}}}}}}"
      ]
     },
     "execution_count": 15,
     "metadata": {},
     "output_type": "execute_result"
    }
   ],
   "source": [
    "json.loads(resp.text[9:])"
   ]
  },
  {
   "cell_type": "code",
   "execution_count": null,
   "id": "ad438eae",
   "metadata": {},
   "outputs": [],
   "source": []
  }
 ],
 "metadata": {
  "kernelspec": {
   "display_name": "Python 3 (ipykernel)",
   "language": "python",
   "name": "python3"
  },
  "language_info": {
   "codemirror_mode": {
    "name": "ipython",
    "version": 3
   },
   "file_extension": ".py",
   "mimetype": "text/x-python",
   "name": "python",
   "nbconvert_exporter": "python",
   "pygments_lexer": "ipython3",
   "version": "3.10.7"
  }
 },
 "nbformat": 4,
 "nbformat_minor": 5
}
