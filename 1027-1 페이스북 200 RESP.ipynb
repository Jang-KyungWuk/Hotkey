{
 "cells": [
  {
   "cell_type": "code",
   "execution_count": 1,
   "id": "e8b5e3be",
   "metadata": {},
   "outputs": [],
   "source": [
    "# import, header 설정\n",
    "from requests import Session, get\n",
    "import json\n",
    "session = Session()"
   ]
  },
  {
   "cell_type": "code",
   "execution_count": 2,
   "id": "1f63e75f",
   "metadata": {},
   "outputs": [],
   "source": [
    "service_url = 'https://www.facebook.com/api/graphql/'"
   ]
  },
  {
   "cell_type": "code",
   "execution_count": 3,
   "id": "593944bf",
   "metadata": {},
   "outputs": [],
   "source": [
    "request_header=dict()\n",
    "h='''accept: */*\n",
    "accept-encoding: gzip, deflate, br\n",
    "accept-language: ko-KR,ko;q=0.9\n",
    "content-length: 3557\n",
    "content-type: application/x-www-form-urlencoded\n",
    "cookie: fr=1F9jRK8fVzNvGeqR3..BjWhrE.0b.AAA.0.0.BjWhrE.AWWc7G4Tsjg; datr=xBpaYyxRLqSZjSNeJ_bJj5XF; wd=730x961\n",
    "dnt: 1\n",
    "origin: https://www.facebook.com\n",
    "referer: https://www.facebook.com/hashtag/%EC%A7%80%EB%8A%A5%EC%A0%95%EB%B3%B4\n",
    "sec-ch-prefers-color-scheme: light\n",
    "sec-ch-ua: \"Chromium\";v=\"106\", \"Google Chrome\";v=\"106\", \"Not;A=Brand\";v=\"99\"\n",
    "sec-ch-ua-mobile: ?0\n",
    "sec-ch-ua-platform: \"Windows\"\n",
    "sec-fetch-dest: empty\n",
    "sec-fetch-mode: cors\n",
    "sec-fetch-site: same-origin\n",
    "sec-gpc: 1\n",
    "user-agent: Mozilla/5.0 (Windows NT 10.0; Win64; x64) AppleWebKit/537.36 (KHTML, like Gecko) Chrome/106.0.0.0 Safari/537.36\n",
    "viewport-width: 730\n",
    "x-fb-friendly-name: SearchCometInterestsDeepDivePostsListQuery\n",
    "x-fb-lsd: AVq9sbnpGTs'''\n",
    "for line in h.split('\\n'):\n",
    "    res = line.split(': ')\n",
    "    request_header[res[0]]=res[1]\n",
    "# request_header['accept-encoding']=\"json\""
   ]
  },
  {
   "cell_type": "code",
   "execution_count": 4,
   "id": "ed90dadf",
   "metadata": {
    "collapsed": true
   },
   "outputs": [
    {
     "data": {
      "text/plain": [
       "{'accept': '*/*',\n",
       " 'accept-encoding': 'gzip, deflate, br',\n",
       " 'accept-language': 'ko-KR,ko;q=0.9',\n",
       " 'content-length': '3557',\n",
       " 'content-type': 'application/x-www-form-urlencoded',\n",
       " 'cookie': 'fr=1F9jRK8fVzNvGeqR3..BjWhrE.0b.AAA.0.0.BjWhrE.AWWc7G4Tsjg; datr=xBpaYyxRLqSZjSNeJ_bJj5XF; wd=730x961',\n",
       " 'dnt': '1',\n",
       " 'origin': 'https://www.facebook.com',\n",
       " 'referer': 'https://www.facebook.com/hashtag/%EC%A7%80%EB%8A%A5%EC%A0%95%EB%B3%B4',\n",
       " 'sec-ch-prefers-color-scheme': 'light',\n",
       " 'sec-ch-ua': '\"Chromium\";v=\"106\", \"Google Chrome\";v=\"106\", \"Not;A=Brand\";v=\"99\"',\n",
       " 'sec-ch-ua-mobile': '?0',\n",
       " 'sec-ch-ua-platform': '\"Windows\"',\n",
       " 'sec-fetch-dest': 'empty',\n",
       " 'sec-fetch-mode': 'cors',\n",
       " 'sec-fetch-site': 'same-origin',\n",
       " 'sec-gpc': '1',\n",
       " 'user-agent': 'Mozilla/5.0 (Windows NT 10.0; Win64; x64) AppleWebKit/537.36 (KHTML, like Gecko) Chrome/106.0.0.0 Safari/537.36',\n",
       " 'viewport-width': '730',\n",
       " 'x-fb-friendly-name': 'SearchCometInterestsDeepDivePostsListQuery',\n",
       " 'x-fb-lsd': 'AVq9sbnpGTs'}"
      ]
     },
     "execution_count": 4,
     "metadata": {},
     "output_type": "execute_result"
    }
   ],
   "source": [
    "request_header"
   ]
  },
  {
   "cell_type": "code",
   "execution_count": 5,
   "id": "e66a8785",
   "metadata": {},
   "outputs": [],
   "source": [
    "payload=dict()\n",
    "p='''av: 0\n",
    "__user: 0\n",
    "__a: 1\n",
    "__dyn: 7xeUmwlEnwn8yEqxenFw9-2i5U4e1Nxt3odEc8co2qwJyE24wJwpUe8hw47w5nCwjE1xoswMwto662y11xmfz83WwgEcHzoaEd82lwv89k2C1Fwc61uwZwlo5qfK6E7e58jwGzE2swwwJK2W5olwUwlu5o4q0GpovUy0ia2S3qazo3iwPwbS16AzUjwTwNwLwFg66\n",
    "__csr: hQ4Yp3i2cheh4bREJlQ-gAlAlmGVG--m9WGVJlLDG-h3UChdabhWVaCDDyEVGumudWgnGUORxe5EOHglUpgOmii48SlaWJ3o-i8DzWxt7z8sVoKayolyawTUpz8jgeE9kaBzUyl2UmxOUjw5CF02hk1nglwtE0aRo24w2KVJF06tw6Tw2hU13E9o0-zf800RAEmwiQ1Aa0brg3rwu8kwi81x89E3apoi80Fo0nux2xguDPw4CwUw9x0pEd89wBEs1qw1fRwm81ddWwm83hCg6u0hiEe80xO0k-cg983kaqm2h0DyOwmU19UK0F8kho0EJ1236640qKroswfu0nN0g82Rx507ko1Fo2iw5jxO2q0r60RE0Zu2u0BU3Hw63CwpogwAg9UMw1pEuw5Px2zo4dw7TwoU1wU14E5Tg3Pw9Fwbu\n",
    "__req: m\n",
    "__hs: 19292.HYP:comet_loggedout_pkg.2.1.0.0.0\n",
    "dpr: 1\n",
    "__ccg: EXCELLENT\n",
    "__rev: 1006476370\n",
    "__s: 0rxkdl:ir3704:z7h758\n",
    "__hsi: 7159065035184886264\n",
    "__comet_req: 15\n",
    "lsd: AVq9sbnpGTs\n",
    "jazoest: 21026\n",
    "__spin_r: 1006476370\n",
    "__spin_b: trunk\n",
    "__spin_t: 1666849720\n",
    "fb_api_caller_class: RelayModern\n",
    "fb_api_req_friendly_name: SearchCometInterestsDeepDivePostsListQuery\n",
    "variables: {\"UFI2CommentsProvider_commentsKey\":\"SearchCometInterestsDeepDiveRootQuery\",\"displayCommentsContextEnableComment\":false,\"displayCommentsContextIsAdPreview\":false,\"displayCommentsContextIsAggregatedShare\":false,\"displayCommentsContextIsStorySet\":true,\"displayCommentsFeedbackContext\":null,\"feedLocation\":\"SEARCH\",\"feedbackSource\":40,\"focusCommentID\":null,\"input\":{\"extra_data\":null,\"scope_information\":null,\"session_id\":\"7fd525ae-b913-4622-bce7-3bae06aa4fdf\",\"topic_id\":\"#지능정보\",\"explore_tab\":\"TOP\"},\"locale\":null,\"privacySelectorRenderLocation\":\"COMET_STREAM\",\"renderLocation\":\"search_results_page\",\"scale\":1,\"topic_results_paginating_after_cursor\":\"{\\\"current_section\\\":12,\\\"serialized_section_cursor\\\":\\\"{\\\\\\\"serialized_browse_cursor\\\\\\\":\\\\\\\"AbopKwTRI0HYUwIwBOWrnLloqRvmwKOPakNyR-_SRNGFTAjS3FVA-xiVwfSvemfd88xz3cQhSshLK6Nk0WVryEtjgHMw9cLCxaFZYJw5eTIN_dC1DNTkodKt6t5Ew7ingug8vrMjai74iupemJq2JhnjwN5UrPG56A16XratmvoLV6NcjTxG0RVsYpAKn1pdVtV-tl51pT_V_bwGWasjJoBLjWPOLPUDMcAW26X_Q07RGwPTDA0R6JDgAKVpw8KIAT9biL-N5KGe0Rm72gci_-zKYyb2BgXHxL4afFmIMx8fELw5GfYPPWbClUnOS8yYYxlD_LSmokE0WKSfLYxToRfzErRKPoFWRnh8Rm4PbeWwDY4-omR4rUFgwNBaRByn0KlRXZMedaCd-MMDd2-NS5XNMO1AGQO0gEBaeJvekPXMcurE1wVynG1aNKQSkuzWH0SXc5qjSlbxCSbWe0ooJ_dkbU_0b-vjV4rfzmqe5hYEmukOSpLe-fWzIaDrhtCqt5hhqVQeP35mvjvSavTgeoTiGRaeyxD95lTti-hv6mJzCovhiqGp-1prO9gQbrH-vyYvBsXMsxI2BOISuVZoC5mNWLUo4cORAmmYOm2bTLdP8A\\\\\\\",\\\\\\\"browse_unit_id\\\\\\\":\\\\\\\"browse_serp:731fa1db-3062-49f6-93bb-0fcf46ac44fd\\\\\\\",\\\\\\\"top_n_fbids_shown_at_start_of_section\\\\\\\":[]}\\\",\\\"session_id\\\":\\\"7fd525ae-b913-4622-bce7-3bae06aa4fdf\\\",\\\"current_page_num\\\":2,\\\"section_to_num_results_shown\\\":{\\\"top_posts\\\":8},\\\"top_n_fbids_shown\\\":[1099550627329705,4672533076142152,2791525120907838,2467034660055177,2527709273931186,534840590336742,2041385105893434,2133832906892340],\\\"quick_promotion_fbids_shown\\\":[]}\",\"topic_results_paginating_at_stream_enabled\":false,\"topic_results_paginating_at_stream_initial_count\":1,\"topic_results_paginating_first\":5,\"useDefaultActor\":false}\n",
    "server_timestamps: true\n",
    "doc_id: 5636278973095242'''\n",
    "for line in p.split('\\n'):\n",
    "    res = line.split(': ')\n",
    "    payload[res[0]]=res[1]"
   ]
  },
  {
   "cell_type": "code",
   "execution_count": 6,
   "id": "30f0543b",
   "metadata": {
    "collapsed": true
   },
   "outputs": [
    {
     "data": {
      "text/plain": [
       "{'av': '0',\n",
       " '__user': '0',\n",
       " '__a': '1',\n",
       " '__dyn': '7xeUmwlEnwn8yEqxenFw9-2i5U4e1Nxt3odEc8co2qwJyE24wJwpUe8hw47w5nCwjE1xoswMwto662y11xmfz83WwgEcHzoaEd82lwv89k2C1Fwc61uwZwlo5qfK6E7e58jwGzE2swwwJK2W5olwUwlu5o4q0GpovUy0ia2S3qazo3iwPwbS16AzUjwTwNwLwFg66',\n",
       " '__csr': 'hQ4Yp3i2cheh4bREJlQ-gAlAlmGVG--m9WGVJlLDG-h3UChdabhWVaCDDyEVGumudWgnGUORxe5EOHglUpgOmii48SlaWJ3o-i8DzWxt7z8sVoKayolyawTUpz8jgeE9kaBzUyl2UmxOUjw5CF02hk1nglwtE0aRo24w2KVJF06tw6Tw2hU13E9o0-zf800RAEmwiQ1Aa0brg3rwu8kwi81x89E3apoi80Fo0nux2xguDPw4CwUw9x0pEd89wBEs1qw1fRwm81ddWwm83hCg6u0hiEe80xO0k-cg983kaqm2h0DyOwmU19UK0F8kho0EJ1236640qKroswfu0nN0g82Rx507ko1Fo2iw5jxO2q0r60RE0Zu2u0BU3Hw63CwpogwAg9UMw1pEuw5Px2zo4dw7TwoU1wU14E5Tg3Pw9Fwbu',\n",
       " '__req': 'm',\n",
       " '__hs': '19292.HYP:comet_loggedout_pkg.2.1.0.0.0',\n",
       " 'dpr': '1',\n",
       " '__ccg': 'EXCELLENT',\n",
       " '__rev': '1006476370',\n",
       " '__s': '0rxkdl:ir3704:z7h758',\n",
       " '__hsi': '7159065035184886264',\n",
       " '__comet_req': '15',\n",
       " 'lsd': 'AVq9sbnpGTs',\n",
       " 'jazoest': '21026',\n",
       " '__spin_r': '1006476370',\n",
       " '__spin_b': 'trunk',\n",
       " '__spin_t': '1666849720',\n",
       " 'fb_api_caller_class': 'RelayModern',\n",
       " 'fb_api_req_friendly_name': 'SearchCometInterestsDeepDivePostsListQuery',\n",
       " 'variables': '{\"UFI2CommentsProvider_commentsKey\":\"SearchCometInterestsDeepDiveRootQuery\",\"displayCommentsContextEnableComment\":false,\"displayCommentsContextIsAdPreview\":false,\"displayCommentsContextIsAggregatedShare\":false,\"displayCommentsContextIsStorySet\":true,\"displayCommentsFeedbackContext\":null,\"feedLocation\":\"SEARCH\",\"feedbackSource\":40,\"focusCommentID\":null,\"input\":{\"extra_data\":null,\"scope_information\":null,\"session_id\":\"7fd525ae-b913-4622-bce7-3bae06aa4fdf\",\"topic_id\":\"#지능정보\",\"explore_tab\":\"TOP\"},\"locale\":null,\"privacySelectorRenderLocation\":\"COMET_STREAM\",\"renderLocation\":\"search_results_page\",\"scale\":1,\"topic_results_paginating_after_cursor\":\"{\"current_section\":12,\"serialized_section_cursor\":\"{\\\\\"serialized_browse_cursor\\\\\":\\\\\"AbopKwTRI0HYUwIwBOWrnLloqRvmwKOPakNyR-_SRNGFTAjS3FVA-xiVwfSvemfd88xz3cQhSshLK6Nk0WVryEtjgHMw9cLCxaFZYJw5eTIN_dC1DNTkodKt6t5Ew7ingug8vrMjai74iupemJq2JhnjwN5UrPG56A16XratmvoLV6NcjTxG0RVsYpAKn1pdVtV-tl51pT_V_bwGWasjJoBLjWPOLPUDMcAW26X_Q07RGwPTDA0R6JDgAKVpw8KIAT9biL-N5KGe0Rm72gci_-zKYyb2BgXHxL4afFmIMx8fELw5GfYPPWbClUnOS8yYYxlD_LSmokE0WKSfLYxToRfzErRKPoFWRnh8Rm4PbeWwDY4-omR4rUFgwNBaRByn0KlRXZMedaCd-MMDd2-NS5XNMO1AGQO0gEBaeJvekPXMcurE1wVynG1aNKQSkuzWH0SXc5qjSlbxCSbWe0ooJ_dkbU_0b-vjV4rfzmqe5hYEmukOSpLe-fWzIaDrhtCqt5hhqVQeP35mvjvSavTgeoTiGRaeyxD95lTti-hv6mJzCovhiqGp-1prO9gQbrH-vyYvBsXMsxI2BOISuVZoC5mNWLUo4cORAmmYOm2bTLdP8A\\\\\",\\\\\"browse_unit_id\\\\\":\\\\\"browse_serp:731fa1db-3062-49f6-93bb-0fcf46ac44fd\\\\\",\\\\\"top_n_fbids_shown_at_start_of_section\\\\\":[]}\",\"session_id\":\"7fd525ae-b913-4622-bce7-3bae06aa4fdf\",\"current_page_num\":2,\"section_to_num_results_shown\":{\"top_posts\":8},\"top_n_fbids_shown\":[1099550627329705,4672533076142152,2791525120907838,2467034660055177,2527709273931186,534840590336742,2041385105893434,2133832906892340],\"quick_promotion_fbids_shown\":[]}\",\"topic_results_paginating_at_stream_enabled\":false,\"topic_results_paginating_at_stream_initial_count\":1,\"topic_results_paginating_first\":5,\"useDefaultActor\":false}',\n",
       " 'server_timestamps': 'true',\n",
       " 'doc_id': '5636278973095242'}"
      ]
     },
     "execution_count": 6,
     "metadata": {},
     "output_type": "execute_result"
    }
   ],
   "source": [
    "payload"
   ]
  },
  {
   "cell_type": "code",
   "execution_count": 7,
   "id": "cd7483cb",
   "metadata": {},
   "outputs": [],
   "source": [
    "c='''wd\t730x961\t.facebook.com\t/\t2022-11-03T06:21:24.000Z\t9\t\t✓\tLax\t\t\tMedium\t\n",
    "datr\txBpaYyxRLqSZjSNeJ_bJj5XF\t.facebook.com\t/\t2023-12-01T05:44:38.927Z\t28\t✓\t✓\tNone\t\t\tMedium\t\n",
    "fr\t1F9jRK8fVzNvGeqR3..BjWhrE.0b.AAA.0.0.BjWhrE.AWWc7G4Tsjg\t.facebook.com\t/\t2023-01-25T05:44:35.950Z\t57\t✓\t✓\tNone\t\t\tMedium'''.splitlines()\n",
    "cookies = {_.split('\\t')[0]:_.split('\\t')[1] for _ in c if len(_) > 0}"
   ]
  },
  {
   "cell_type": "code",
   "execution_count": 8,
   "id": "af810861",
   "metadata": {
    "collapsed": true
   },
   "outputs": [
    {
     "data": {
      "text/plain": [
       "{'wd': '730x961',\n",
       " 'datr': 'xBpaYyxRLqSZjSNeJ_bJj5XF',\n",
       " 'fr': '1F9jRK8fVzNvGeqR3..BjWhrE.0b.AAA.0.0.BjWhrE.AWWc7G4Tsjg'}"
      ]
     },
     "execution_count": 8,
     "metadata": {},
     "output_type": "execute_result"
    }
   ],
   "source": [
    "cookies"
   ]
  },
  {
   "cell_type": "code",
   "execution_count": 15,
   "id": "a2c5fb13",
   "metadata": {},
   "outputs": [],
   "source": [
    "raw_payload='av=0&__user=0&__a=1&__dyn=7xeUmwlEnwn8yEqxenFw9-2i5U4e1Nxt3odEc8co2qwJyE24wJwpUe8hw47w5nCwjE1xoswMwto662y11xmfz83WwgEcHzoaEd82lwv89k2C1Fwc61uwZwlo5qfK6E7e58jwGzE2swwwJK2W5olwUwlu5o4q0GpovUy0ia2S3qazo3iwPwbS16AzUjwTwNwLwFg66&__csr=hQ4Yp3i2cheh4bREJlQ-gAlAlmGVG--m9WGVJlLDG-h3UChdabhWVaCDDyEVGumudWgnGUORxe5EOHglUpgOmii48SlaWJ3o-i8DzWxt7z8sVoKayolyawTUpz8jgeE9kaBzUyl2UmxOUjw5CF02hk1nglwtE0aRo24w2KVJF06tw6Tw2hU13E9o0-zf800RAEmwiQ1Aa0brg3rwu8kwi81x89E3apoi80Fo0nux2xguDPw4CwUw9x0pEd89wBEs1qw1fRwm81ddWwm83hCg6u0hiEe80xO0k-cg983kaqm2h0DyOwmU19UK0F8kho0EJ1236640qKroswfu0nN0g82Rx507ko1Fo2iw5jxO2q0r60RE0Zu2u0BU3Hw63CwpogwAg9UMw1pEuw5Px2zo4dw7TwoU1wU14E5Tg3Pw9Fwbu&__req=m&__hs=19292.HYP%3Acomet_loggedout_pkg.2.1.0.0.0&dpr=1&__ccg=EXCELLENT&__rev=1006476370&__s=0rxkdl%3Air3704%3Az7h758&__hsi=7159065035184886264&__comet_req=15&lsd=AVq9sbnpGTs&jazoest=21026&__spin_r=1006476370&__spin_b=trunk&__spin_t=1666849720&fb_api_caller_class=RelayModern&fb_api_req_friendly_name=SearchCometInterestsDeepDivePostsListQuery&variables=%7B%22UFI2CommentsProvider_commentsKey%22%3A%22SearchCometInterestsDeepDiveRootQuery%22%2C%22displayCommentsContextEnableComment%22%3Afalse%2C%22displayCommentsContextIsAdPreview%22%3Afalse%2C%22displayCommentsContextIsAggregatedShare%22%3Afalse%2C%22displayCommentsContextIsStorySet%22%3Atrue%2C%22displayCommentsFeedbackContext%22%3Anull%2C%22feedLocation%22%3A%22SEARCH%22%2C%22feedbackSource%22%3A40%2C%22focusCommentID%22%3Anull%2C%22input%22%3A%7B%22extra_data%22%3Anull%2C%22scope_information%22%3Anull%2C%22session_id%22%3A%227fd525ae-b913-4622-bce7-3bae06aa4fdf%22%2C%22topic_id%22%3A%22%23%EC%A7%80%EB%8A%A5%EC%A0%95%EB%B3%B4%22%2C%22explore_tab%22%3A%22TOP%22%7D%2C%22locale%22%3Anull%2C%22privacySelectorRenderLocation%22%3A%22COMET_STREAM%22%2C%22renderLocation%22%3A%22search_results_page%22%2C%22scale%22%3A1%2C%22topic_results_paginating_after_cursor%22%3A%22%7B%5C%22current_section%5C%22%3A12%2C%5C%22serialized_section_cursor%5C%22%3A%5C%22%7B%5C%5C%5C%22serialized_browse_cursor%5C%5C%5C%22%3A%5C%5C%5C%22AbopKwTRI0HYUwIwBOWrnLloqRvmwKOPakNyR-_SRNGFTAjS3FVA-xiVwfSvemfd88xz3cQhSshLK6Nk0WVryEtjgHMw9cLCxaFZYJw5eTIN_dC1DNTkodKt6t5Ew7ingug8vrMjai74iupemJq2JhnjwN5UrPG56A16XratmvoLV6NcjTxG0RVsYpAKn1pdVtV-tl51pT_V_bwGWasjJoBLjWPOLPUDMcAW26X_Q07RGwPTDA0R6JDgAKVpw8KIAT9biL-N5KGe0Rm72gci_-zKYyb2BgXHxL4afFmIMx8fELw5GfYPPWbClUnOS8yYYxlD_LSmokE0WKSfLYxToRfzErRKPoFWRnh8Rm4PbeWwDY4-omR4rUFgwNBaRByn0KlRXZMedaCd-MMDd2-NS5XNMO1AGQO0gEBaeJvekPXMcurE1wVynG1aNKQSkuzWH0SXc5qjSlbxCSbWe0ooJ_dkbU_0b-vjV4rfzmqe5hYEmukOSpLe-fWzIaDrhtCqt5hhqVQeP35mvjvSavTgeoTiGRaeyxD95lTti-hv6mJzCovhiqGp-1prO9gQbrH-vyYvBsXMsxI2BOISuVZoC5mNWLUo4cORAmmYOm2bTLdP8A%5C%5C%5C%22%2C%5C%5C%5C%22browse_unit_id%5C%5C%5C%22%3A%5C%5C%5C%22browse_serp%3A731fa1db-3062-49f6-93bb-0fcf46ac44fd%5C%5C%5C%22%2C%5C%5C%5C%22top_n_fbids_shown_at_start_of_section%5C%5C%5C%22%3A%5B%5D%7D%5C%22%2C%5C%22session_id%5C%22%3A%5C%227fd525ae-b913-4622-bce7-3bae06aa4fdf%5C%22%2C%5C%22current_page_num%5C%22%3A2%2C%5C%22section_to_num_results_shown%5C%22%3A%7B%5C%22top_posts%5C%22%3A8%7D%2C%5C%22top_n_fbids_shown%5C%22%3A%5B1099550627329705%2C4672533076142152%2C2791525120907838%2C2467034660055177%2C2527709273931186%2C534840590336742%2C2041385105893434%2C2133832906892340%5D%2C%5C%22quick_promotion_fbids_shown%5C%22%3A%5B%5D%7D%22%2C%22topic_results_paginating_at_stream_enabled%22%3Afalse%2C%22topic_results_paginating_at_stream_initial_count%22%3A1%2C%22topic_results_paginating_first%22%3A5%2C%22useDefaultActor%22%3Afalse%7D&server_timestamps=true&doc_id=5636278973095242'\n",
    "\n",
    "payload_from_raw = dict()\n",
    "for line in raw_payload.split('&'):\n",
    "    res = line.split('=')\n",
    "    payload_from_raw[res[0]]=res[1]\n",
    "j_payload = json.dumps(payload_from_raw)"
   ]
  },
  {
   "cell_type": "code",
   "execution_count": 29,
   "id": "c88ffe72",
   "metadata": {},
   "outputs": [],
   "source": [
    "resp = session.post(url=service_url, data=payload, cookies=cookies)"
   ]
  },
  {
   "cell_type": "code",
   "execution_count": 30,
   "id": "684b9cd3",
   "metadata": {},
   "outputs": [
    {
     "data": {
      "text/plain": [
       "<Response [200]>"
      ]
     },
     "execution_count": 30,
     "metadata": {},
     "output_type": "execute_result"
    }
   ],
   "source": [
    "resp"
   ]
  },
  {
   "cell_type": "code",
   "execution_count": 31,
   "id": "f8148187",
   "metadata": {},
   "outputs": [
    {
     "data": {
      "text/plain": [
       "{'Vary': 'Accept-Encoding', 'Content-Encoding': 'gzip', 'Content-Type': 'text/javascript; charset=utf-8', 'report-to': '{\"max_age\":259200,\"endpoints\":[{\"url\":\"https:\\\\/\\\\/www.facebook.com\\\\/ajax\\\\/comet_error_reports\\\\/?device_level=unknown\"}]}', 'x-fb-rlafr': '0', 'document-policy': 'force-load-at-top', 'cross-origin-opener-policy': 'same-origin-allow-popups', 'Pragma': 'no-cache', 'Cache-Control': 'private, no-cache, no-store, must-revalidate', 'Expires': 'Sat, 01 Jan 2000 00:00:00 GMT', 'X-Content-Type-Options': 'nosniff', 'X-XSS-Protection': '0', 'X-Frame-Options': 'DENY', 'Strict-Transport-Security': 'max-age=15552000; preload', 'X-FB-Debug': 'Ej4Jox9OGDXnPboW+Zu5l4oFI7cy2jaGSscxz5rMWX3LLhFTFC9nvvD1XQgwYYQPgMyDgrB7uTfq0B8aq7P5lg==', 'Date': 'Thu, 27 Oct 2022 06:45:55 GMT', 'Priority': 'u=3,i', 'Alt-Svc': 'h3=\":443\"; ma=86400', 'Transfer-Encoding': 'chunked', 'Connection': 'keep-alive'}"
      ]
     },
     "execution_count": 31,
     "metadata": {},
     "output_type": "execute_result"
    }
   ],
   "source": [
    "resp.headers"
   ]
  },
  {
   "cell_type": "code",
   "execution_count": 32,
   "id": "485c7e4f",
   "metadata": {},
   "outputs": [
    {
     "data": {
      "text/plain": [
       "b'{\"data\":{\"topic_deep_dive\":null},\"errors\":[{\"message\":\"A server error missing_required_variable_value occured. Check server logs for details.\",\"severity\":\"WARNING\"},{\"message\":\"A server error missing_required_variable_value occured. Check server logs for details.\",\"severity\":\"WARNING\"},{\"message\":\"A server error missing_required_variable_value occured. Check server logs for details.\",\"severity\":\"WARNING\"},{\"message\":\"A server error missing_required_variable_value occured. Check server logs for details.\",\"severity\":\"WARNING\"},{\"message\":\"A server error noncoercible_argument_value occured. Check server logs for details.\",\"severity\":\"CRITICAL\",\"code\":1675012,\"api_error_code\":null,\"summary\":\"\\\\ud68c\\\\uc6d0\\\\ub2d8\\\\uc774 \\\\uc694\\\\uccad\\\\uc774 \\\\ucc98\\\\ub9ac\\\\ub418\\\\uc9c0 \\\\uc54a\\\\uc558\\\\uc2b5\\\\ub2c8\\\\ub2e4.\",\"description\":\"\\\\uc694\\\\uccad\\\\uc744 \\\\ucc98\\\\ub9ac\\\\ud558\\\\ub294 \\\\uc911 \\\\ubb38\\\\uc81c\\\\uac00 \\\\ubc1c\\\\uc0dd\\\\ud558\\\\uc600\\\\uc2b5\\\\ub2c8\\\\ub2e4. \\\\uac00\\\\ub2a5\\\\ud55c \\\\ud55c \\\\ube68\\\\ub9ac \\\\ubb38\\\\uc81c\\\\ub97c \\\\ud574\\\\uacb0\\\\ud558\\\\ub3c4\\\\ub85d \\\\ud558\\\\uaca0\\\\uc2b5\\\\ub2c8\\\\ub2e4.\",\"description_raw\":\"\\\\uc694\\\\uccad\\\\uc744 \\\\ucc98\\\\ub9ac\\\\ud558\\\\ub294 \\\\uc911 \\\\ubb38\\\\uc81c\\\\uac00 \\\\ubc1c\\\\uc0dd\\\\ud558\\\\uc600\\\\uc2b5\\\\ub2c8\\\\ub2e4. \\\\uac00\\\\ub2a5\\\\ud55c \\\\ud55c \\\\ube68\\\\ub9ac \\\\ubb38\\\\uc81c\\\\ub97c \\\\ud574\\\\uacb0\\\\ud558\\\\ub3c4\\\\ub85d \\\\ud558\\\\uaca0\\\\uc2b5\\\\ub2c8\\\\ub2e4.\",\"is_silent\":false,\"is_transient\":false,\"requires_reauth\":false,\"allow_user_retry\":false,\"debug_info\":null,\"query_path\":null,\"fbtrace_id\":\"AmxTgR0rdhP\",\"www_request_id\":\"A2ciIEcFjOGyKcQGoxlD4S7\",\"path\":[\"topic_deep_dive\"]}],\"extensions\":{\"is_final\":true}}'"
      ]
     },
     "execution_count": 32,
     "metadata": {},
     "output_type": "execute_result"
    }
   ],
   "source": [
    "resp.content"
   ]
  },
  {
   "cell_type": "code",
   "execution_count": 33,
   "id": "4af7f17c",
   "metadata": {},
   "outputs": [
    {
     "data": {
      "text/plain": [
       "{'data': {'topic_deep_dive': None},\n",
       " 'errors': [{'message': 'A server error missing_required_variable_value occured. Check server logs for details.',\n",
       "   'severity': 'WARNING'},\n",
       "  {'message': 'A server error missing_required_variable_value occured. Check server logs for details.',\n",
       "   'severity': 'WARNING'},\n",
       "  {'message': 'A server error missing_required_variable_value occured. Check server logs for details.',\n",
       "   'severity': 'WARNING'},\n",
       "  {'message': 'A server error missing_required_variable_value occured. Check server logs for details.',\n",
       "   'severity': 'WARNING'},\n",
       "  {'message': 'A server error noncoercible_argument_value occured. Check server logs for details.',\n",
       "   'severity': 'CRITICAL',\n",
       "   'code': 1675012,\n",
       "   'api_error_code': None,\n",
       "   'summary': '회원님이 요청이 처리되지 않았습니다.',\n",
       "   'description': '요청을 처리하는 중 문제가 발생하였습니다. 가능한 한 빨리 문제를 해결하도록 하겠습니다.',\n",
       "   'description_raw': '요청을 처리하는 중 문제가 발생하였습니다. 가능한 한 빨리 문제를 해결하도록 하겠습니다.',\n",
       "   'is_silent': False,\n",
       "   'is_transient': False,\n",
       "   'requires_reauth': False,\n",
       "   'allow_user_retry': False,\n",
       "   'debug_info': None,\n",
       "   'query_path': None,\n",
       "   'fbtrace_id': 'AmxTgR0rdhP',\n",
       "   'www_request_id': 'A2ciIEcFjOGyKcQGoxlD4S7',\n",
       "   'path': ['topic_deep_dive']}],\n",
       " 'extensions': {'is_final': True}}"
      ]
     },
     "execution_count": 33,
     "metadata": {},
     "output_type": "execute_result"
    }
   ],
   "source": [
    "resp.json()"
   ]
  },
  {
   "cell_type": "code",
   "execution_count": null,
   "id": "71bd7fe5",
   "metadata": {},
   "outputs": [],
   "source": []
  }
 ],
 "metadata": {
  "kernelspec": {
   "display_name": "Python 3 (ipykernel)",
   "language": "python",
   "name": "python3"
  },
  "language_info": {
   "codemirror_mode": {
    "name": "ipython",
    "version": 3
   },
   "file_extension": ".py",
   "mimetype": "text/x-python",
   "name": "python",
   "nbconvert_exporter": "python",
   "pygments_lexer": "ipython3",
   "version": "3.10.7"
  }
 },
 "nbformat": 4,
 "nbformat_minor": 5
}
