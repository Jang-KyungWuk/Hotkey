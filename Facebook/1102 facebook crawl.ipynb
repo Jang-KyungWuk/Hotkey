{
 "cells": [
  {
   "cell_type": "code",
   "execution_count": 1,
   "id": "5dc41573",
   "metadata": {},
   "outputs": [],
   "source": [
    "'''\n",
    "11월 2일 수요일\n",
    "'''\n",
    "\n",
    "# 필요한 라이브러리 호출\n",
    "from requests import Session, get\n",
    "from datetime import datetime\n",
    "from urllib import parse\n",
    "from bs4 import BeautifulSoup\n",
    "from html import escape, unescape\n",
    "import json\n",
    "import re\n",
    "\n",
    "# 신규 세션 생성\n",
    "session = Session()"
   ]
  },
  {
   "cell_type": "code",
   "execution_count": 2,
   "id": "47c3ecc6",
   "metadata": {},
   "outputs": [],
   "source": [
    "def get_login_cookie(facebookID,facebookPW):\n",
    "    '''\n",
    "    get_login_cookie(session,facebookID,facebookPW) -> session, login_headers, dtsg, resp\n",
    "    페이스북 아이디, 페이스북 패스워드를 넣으면 해당 계정으로 로그인한 세션, 쿠키를 포함한 헤더, dtsg, 로그인 결과를 반환한다.\n",
    "    '''\n",
    "    \n",
    "    session = Session()\n",
    "    \n",
    "    # 첫 요청에 들어가는 헤더 생성 (Edge 브라우저 기준 기본값)\n",
    "    initHeaders=dict()\n",
    "    h='''accept: text/html,application/xhtml+xml,application/xml;q=0.9,image/webp,image/apng,*/*;q=0.8,application/signed-exchange;v=b3;q=0.9\n",
    "accept-encoding: html\n",
    "accept-language: ko\n",
    "sec-ch-ua: \"Microsoft Edge\";v=\"107\", \"Chromium\";v=\"107\", \"Not=A?Brand\";v=\"24\"\n",
    "sec-ch-ua-mobile: ?0\n",
    "sec-ch-ua-platform: \"Windows\"\n",
    "sec-fetch-dest: document\n",
    "sec-fetch-mode: navigate\n",
    "sec-fetch-site: none\n",
    "sec-fetch-user: ?1\n",
    "upgrade-insecure-requests: 1\n",
    "user-agent: Mozilla/5.0 (Windows NT 10.0; Win64; x64) AppleWebKit/537.36 (KHTML, like Gecko) Chrome/107.0.0.0 Safari/537.36 Edg/107.0.1418.26'''\n",
    "\n",
    "    # 줄마다 구분 한 것을 ': ' 기준으로 나눠서 앞의 것을 키, 뒤의 것을 값으로 initHeaders 딕셔너리에 입력 \n",
    "    for line in h.split('\\n'):\n",
    "        res = line.split(': ')\n",
    "        initHeaders[res[0]]=res[1]\n",
    "\n",
    "    # 필요한 값들을 얻기 위해 페이스북 초기화면으로 이동\n",
    "    initURL = 'http://m.facebook.com/'\n",
    "    init_resp = session.get(initURL, headers=initHeaders)\n",
    "    \n",
    "    # 페이스북 초기 화면에서 받을 수 있는 값들을 찾는 과정\n",
    "    \n",
    "    # action=\"/login/device-based/regular/login/?refsrc=deprecated&amp;lwv=100&amp;refid=8\", 비밀번호를 잊으셨나요? 사이의 HTML 문서 추출\n",
    "    loginHTML = init_resp.text\n",
    "    cropstart='action=\"/login/device-based/regular/login/?refsrc=deprecated&amp;lwv=100&amp;refid=8\"'\n",
    "    cropend=\"비밀번호를 잊으셨나요?\"\n",
    "    paramHTML = loginHTML[loginHTML.index(cropstart):loginHTML.index(cropend)]\n",
    "    \n",
    "    # <input type=\"hidden\" 로 시작해서 > 로 끝나는 구간을 찾아낸다. (HTML 상에 존재하는 페이로드에 넣을 입력값이 있는 곳을 찾음)\n",
    "    startpoint = '<input type=\"hidden\"'\n",
    "    endpoint = \">\"\n",
    "    prev_end=0\n",
    "\n",
    "    payloadFromHTML=dict() # 결과를 저장할 딕셔너리\n",
    "    \n",
    "    \n",
    "    while True:\n",
    "        try: # startpoint, endpoint가 있는지 확인\n",
    "            start = paramHTML.index(startpoint,prev_end)\n",
    "            end = paramHTML.index(endpoint,start)\n",
    "        except: # startpoint, endpoint가 해당 구간내에 존재하지 않는다면 while 루프를 탈출한다.\n",
    "            break\n",
    "        \n",
    "        # startpoint와 endpoint 사이의 문자열을 저장한다.\n",
    "        KVstring = paramHTML[start:end]\n",
    "\n",
    "        # 해당 문자열 내의 \"value\"가 있는지 확인한다. (value가 없는 경우도 있으며 이런 경우를 무시하기 위한 과정)\n",
    "        if \"value\" in KVstring:\n",
    "            kv = re.findall('.+name=\"([^\"]+)\".+value=\"([^\"]+)\"',KVstring) # 정규식으로 키와 값 쌍을 얻어낸다.\n",
    "            payloadFromHTML[kv[0][0]] = kv[0][1] # 정규식으로 얻어낸 키-값 쌍을 저장한다.\n",
    "        else: # value가 없는 경우 그대로 다음 문자열로 이행한다.\n",
    "            pass\n",
    "        \n",
    "        # endpoint를 기준으로 이후의 새로운 <input 절을 찾는다.\n",
    "        prev_end=end\n",
    "        \n",
    "    \n",
    "    for key in payloadFromHTML.keys():\n",
    "        print(\"%s : %s\"%(key,payloadFromHTML[key]))\n",
    "    \n",
    "    #  페이로드에 이메일과 평문 비밀번호를 넣는다.\n",
    "    payloadFromHTML['email']=facebookID\n",
    "    payloadFromHTML['encpass'] = '#PWD_BROWSER:0:{}:{}'.format(payloadFromHTML['m_ts'],facebookPW)\n",
    "    \n",
    "    # (필요 여부 불명) 하드코딩 된 헤더값 추가\n",
    "    headers=initHeaders.copy()\n",
    "    headers['x-requested-with']='XMLHttpRequest'\n",
    "    headers['x-response-format']='JSONStream'\n",
    "    \n",
    "    # 로그인 서비스에 지금까지의 값들을 입력한다.\n",
    "    loginURL = 'https://m.facebook.com/login/device-based/login/async/?refsrc=deprecated&lwv=100'\n",
    "    resp = session.post(loginURL, data=payloadFromHTML, headers=headers)\n",
    "    \n",
    "    # (필요 여부 불명) 로그인 성공 후 세션에 등록된 쿠키를 문자열로 처리해서 다시 헤더에 넣기 위해 저장\n",
    "    loginCookie = session.cookies\n",
    "    \n",
    "    loginHeaders = dict()\n",
    "    cookieString=\"\"\n",
    "    for key in ['datr','sb','fr','c_user', 'xs']:\n",
    "        cookieString+=\"%s=%s; \"%(key,loginCookie[key]) # 문자열에 '키=값; '형식으로 값을 이어붙인다.\n",
    "    \n",
    "    cookieString=cookieString[:-2] # 모든 키에 대해서 작업 수행 후 마지막의 '; '를 제거하고 저장한다.\n",
    "    loginHeaders['cookie']=cookieString # 해당 쿠키문자열을 헤더에 추가한다.\n",
    "    \n",
    "    '''\n",
    "    # 결과로 반환된 응답의 dtsg 값을 찾는다. (fb_dtsg에 들어갈값 으로 추측됨)\n",
    "    rerespjs = json.loads(resp.text[9:]) # 9개의 문자열을 뺀 뒷부분은 json으로 변환 가능하니 json으로 변환한다.\n",
    "    jstext = rerespjs['payload']['actions'][1]['code'] # dtsg 가 포함된 문자열\n",
    "    start = jstext.index('dtsg') # dtsg의 내용\n",
    "    end = jstext.index('expire',start) # dtsg가 나온 이후 처음으로 expire가 언급된 구간을 찾는다.\n",
    "    dtsg = re.findall('\"token\":\"([^\"]+)\"',jstext[start:end])[0] # 해당 구간에서 토큰값을 저장한다.\n",
    "    \n",
    "    dtsgSep = dtsg.split(':')\n",
    "    dtsgSep[1] = \"49\"\n",
    "    dtsgSep[2] = payloadFromHTML['m_ts']\n",
    "    \n",
    "    dtsgCal = \"\"\n",
    "    for factor in dtsgSep:\n",
    "        dtsgCal+=(factor+\":\")\n",
    "    dtsgCal=dtsgCal[:-1]\n",
    "    '''\n",
    "    \n",
    "    lgnResp = session.get(\"https://m.facebook.com/login/save-device/?login_source=login\",\n",
    "                          headers=initHeaders,\n",
    "                          data={\"login_source\":\"login\"})\n",
    "    lgnHTML = lgnResp.text\n",
    "    linestart = lgnHTML.index(\"MPageLoadClientMetrics.init(\")\n",
    "    start = lgnHTML.index('\"',linestart)\n",
    "    end = lgnHTML.index('\"',start+1)\n",
    "    dtsg = lgnHTML[start+1:end]\n",
    "    \n",
    "    return loginHeaders, dtsg, resp # 쿠키를 문자열로 반환, dtsg, resp (디버그용) 을 반환한다."
   ]
  },
  {
   "cell_type": "code",
   "execution_count": 3,
   "id": "a735f51d",
   "metadata": {},
   "outputs": [
    {
     "name": "stdout",
     "output_type": "stream",
     "text": [
      "lsd : AVoTCCGmlUE\n",
      "jazoest : 2922\n",
      "m_ts : 1667375942\n",
      "li : RiNiY2aUiRBeLXK8EP8niMKt\n",
      "try_number : 0\n",
      "unrecognized_tries : 0\n",
      "had_cp_prefilled : false\n",
      "had_password_prefilled : false\n",
      "is_smart_lock : false\n",
      "bi_xrwh : 0\n",
      "_fb_noscript : true\n"
     ]
    }
   ],
   "source": [
    "headers, dtsg, result_resp = get_login_cookie(\"seungirumd+1@gmail.com\",\"pfbmw246\")"
   ]
  },
  {
   "cell_type": "code",
   "execution_count": 4,
   "id": "1fbaa4c1",
   "metadata": {},
   "outputs": [
    {
     "data": {
      "text/plain": [
       "'NAcOtfcp3es9oLWtMrHqru5lyQn8jP9Vt8K-G_cVaZSUiAkNjiNOmdA:40:1667375942'"
      ]
     },
     "execution_count": 4,
     "metadata": {},
     "output_type": "execute_result"
    }
   ],
   "source": [
    "dtsg"
   ]
  },
  {
   "cell_type": "code",
   "execution_count": 5,
   "id": "4dbb6902",
   "metadata": {},
   "outputs": [
    {
     "data": {
      "text/plain": [
       "{'cookie': 'datr=RiNiYyKKB4OgPyfR2RMC8abo; sb=RiNiY3SAWfptWATpXOwmieGw; fr=0fBWaTtkF3vB5L7QS.AWU2t7AiFHgV9Ufcz5JKc8d_4Tw.BjYiNG.ab.AAA.0.0.BjYiNG.AWXcBAy11fk; c_user=100087280119490; xs=40%3ABO8dIXu5lbOtYw%3A2%3A1667375942%3A-1%3A-1'}"
      ]
     },
     "execution_count": 5,
     "metadata": {},
     "output_type": "execute_result"
    }
   ],
   "source": [
    "headers"
   ]
  },
  {
   "cell_type": "code",
   "execution_count": 6,
   "id": "99255a75",
   "metadata": {},
   "outputs": [],
   "source": [
    "session = Session()"
   ]
  },
  {
   "cell_type": "code",
   "execution_count": 7,
   "id": "326b4a3f",
   "metadata": {},
   "outputs": [],
   "source": [
    "# 냉동만두에 대한 게시글을 가져오기 위해 필요한 패러미터들\n",
    "data = {'fb_dtsg': dtsg,\n",
    "        '__a': '1'}\n",
    "url = 'https://m.facebook.com/search/posts/'\n",
    "get_params = {'q': '냉동만두', 'source': 'filter', 'isTrending': '0', 'cursor' : '',  'pn' : '1', 'tsid': ''}\n",
    "\n",
    "full_url = url+'?'\n",
    "keys = list(get_params.keys())\n",
    "values = list(get_params.values())\n",
    "\n",
    "for i in range(len(keys)):\n",
    "    full_url += '%s=%s&'%(keys[i],values[i]) # 서비스 URL+? 이후로 검색 패러미터의 '키:값&'형식으로 모든 키-값 쌍을 추가한다.\n",
    "full_url = full_url[:-1] # 마지막 &를 제거하고 저장"
   ]
  },
  {
   "cell_type": "code",
   "execution_count": 8,
   "id": "e1f773c4",
   "metadata": {},
   "outputs": [
    {
     "data": {
      "text/plain": [
       "'<div class=\"_45fx _4d7h\" id=\"BrowseResultsContainer\"><div><div id=\"u_cl5tba_0_Lj\"><div><div class=\"_10y_ _10z6\"><div class=\"_7k7 storyStream\"><div class=\"_1p82\" id=\"u_cl5tba_2_pu\"><div class=\"_2h4o\" id=\"u_cl5tba_5_MV\"><div><div class=\"_18qg _3u_7\"><div class=\"_55wo _56bf _5rgl\" id=\"u_cl5tba_3_SX\"><div class=\"story_body_container\"><div class=\"_581t\"><table class=\"_4g33\"><tbody><tr><td class=\"_5s61\"><div class=\"_67lm\"></div></td><td class=\"_4g34 _52we\"><div><h3 class=\"_52ja _52jh _4vc- _lqt\"><span><strong><a href=\"/pig123/?__tn__=C&paipv=0&eav=AfZA8sD9GTZePxcRvSZHBY6EliBlpr5SfLeXnNB8wjOQB5VPNlu2b40YNC_igYgrpe8\">돼지야 살쪘다고 징징대지를 말든가 먹지를 말든가 둘중에 하나만해라</a></strong></span></h3></div></td></tr></tbody></table></div><div class=\"_5rgn\" style=\"\" data-ft=\"{\"tn\":\"*s\"}\"><div><span><p>가정교육이 참 중요하다라는걸 또 깨닫는다</p></span></div></div><div class=\"_5rgo _27x0\" data-ft=\"{\"tn\":\"H\"}\"><a class=\"_5tip _5tfq\" href=\"http://lm.facebook.com/l.php?u=http%3A%2F%2Fhot-post.com%2F%3Fp%3D119984%26fbclid%3DIwAR3Gr4E0sxknhP1XsVV0EH4Jo93iqgJfNgAHSGDrqKnO5xEpeLMs4_X93E0&h=AT2BKKxlKW-2yeHZDtUCkWbXg1B0DmW6yni-qFvZGvnYgaEta1YbTHcRHc4IkpXvtdlcuuCMWTw1HgqlGK6oaMmy-BXM5IH8hOfIejIaHYwfZK-pif3Pn23S2eMYdSH1ebRPDRMcCYtXow\" id=\"u_cl5tba_4_uq\" target=\"_blank\"><div class=\"_59e9 _55wr _5til\"><table class=\"_4g33 _52wc\" align=\"start\"><tbody><tr><td class=\"_5s61 _3lsd\"><img src=\"https://external-gmp1-1.xx.fbcdn.net/emg1/v/t13/1872279478159270162?url=http%3A%2F%2Fhot-post.com%2Fwp-content%2Fuploads%2F2022%2F10%2F44-3-4-3-7-3-1-95.png&fb_obo=1&utld=hot-post.com&stp=c0.5000x0.5000f_dst-jpg_flffffff_p112x112_q75&ccb=13-1&oh=06_AbGcQz9Xw2xy9cdFZdpvcVI8PXXCC5p9td_BiykMToJeKw&oe=6363BE1C&_nc_sid=6ac203\" width=\"112\" height=\"112\" class=\"img\" /></td><td class=\"_4g34\"><h1 class=\"_52jd _52jh _ing\">저희 부모님께서 처가집에 냉동만두 세트를 보내셨습니다</h1><div class=\"_52jc _2b-u\">hot-post.com<div class=\"_52jc\"></div></div></td></tr></tbody></table></div></a><div></div><div></div></div></div><div class=\"_5sq4\" data-ft=\"{\"tn\":\"*W\"}\"><div class=\"mfss fcg\"><abbr>10월 29일 오전 10:20</abbr><span> · </span><span class=\"_26zb\"><div class=\"_7jwi\"><span><span class=\"mfss\">전체 공개</span></span><div class=\"_7jwh\"></div></div></span></div><div class=\"mfss fcg\"><span class=\"mfss fcg\" id=\"like_5751218724958042\"><a class=\"_2e4w nowrap\" href=\"/story.php?story_fbid=pfbid036RnR4eQf9MK1N4oZ2GjnUciWQjCjMiobjhjQxV5AWjzSDndctRcL2s8hYjZbSBQMl&id=611749218905044&eav=AfbbjBXuBikVkJTb0uhiPuA3VgCJ0zG6WQ2tuIlDgr3gh3lhhfakHa9vvtO3b49L7SQ&__tn__=%2AW&paipv=0\"><span class=\"_41nk\"><img src=\"https://scontent-gmp1-1.xx.fbcdn.net/m1/v/t6/An_awEcP5a-VJkiSKC4SklmLyo8p7Q3iP5vL6HDsa_ZTJdFfRRdtUFNJfr9LXPYfMhVSkFk4hqLRcj3zU9hTsyzpPGIc4jC3fiqwidCEo8AGZ4Rq.png?ccb=10-5&oh=00_AfDDDNoRE-ZmZyZuobB66i9K1NUbDrULxpCX_rci0ZDzkA&oe=638986D2&_nc_sid=55e238\" width=\"14\" height=\"14\" class=\"img\" /><img src=\"https://scontent-gmp1-1.xx.fbcdn.net/m1/v/t6/An-B1pSuUzVYjvgsMKX_Vqj4-_lLytkM6Nozgd-KEQtGeI8Y9Dj67ingsy3_SeWpSSuVqtkvm86Rb2Nn5PDEyd2W0StC1YTvqRttUA4Ffuh_FPpP.png?ccb=10-5&oh=00_AfDDECBGMnndGdysO5cF9ma3RBqSRwCvrQtfedumrz-3Jw&oe=638984BF&_nc_sid=55e238\" width=\"14\" height=\"14\" class=\"img\" /><img src=\"https://scontent-gmp1-1.xx.fbcdn.net/m1/v/t6/An-VBmEj0LPhn7r9Xz5guezTJlexmqlwQ-3VYyM27u4DWR7mpQVnzOLz67OONCtekVvQJcNDlQxkBMluKsBslk_OVGsOR14sE4Ws08M62Zieu5U.png?ccb=10-5&oh=00_AfD76l028IlOxI-zAFwmhZs4znDIKxOKSBAKrO0qd4E7sg&oe=63899F81&_nc_sid=55e238\" width=\"14\" height=\"14\" class=\"img\" /></span>110</a><span> · </span><a href=\"/a/like.php?ul&actionsource=search&ft_ent_identifier=5751218724958042&eav=AfbqEeokYtCUK6G10zsFkfR8DVNRm5wBOU094mTu_2zRklXgVXgeQ7s7RsgcxoBOIIU&av=100087280119490&gfid=AQCdd9XWnnF9fMn_xnY&paipv=0&__tn__=%2AW\">좋아요</a><span> · </span><a href=\"/reactions/picker/?ft_id=pfbid036RnR4eQf9MK1N4oZ2GjnUciWQjCjMiobjhjQxV5AWjzSDndctRcL2s8hYjZbSBQMl&origin_uri=https%3A%2F%2Fm.facebook.com%2Fsearch%2Fposts%2F%3Fq%3D%25EB%2583%2589%25EB%258F%2599%25EB%25A7%258C%25EB%2591%2590%26source%3Dfilter%26isTrending%3D0%26cursor%26pn%3D1%26tsid&av=100087280119490&__tn__=%2AW&paipv=0&eav=AfapyvViQXnObe4R0GMMfi-DIfV7LTFQoSdTrrshK7t8D8lC6A_B1iA9VaS1yjVQQv8\">공감</a></span><span> · </span><a href=\"/story.php?story_fbid=pfbid036RnR4eQf9MK1N4oZ2GjnUciWQjCjMiobjhjQxV5AWjzSDndctRcL2s8hYjZbSBQMl&id=611749218905044&eav=AfbbjBXuBikVkJTb0uhiPuA3VgCJ0zG6WQ2tuIlDgr3gh3lhhfakHa9vvtO3b49L7SQ&__tn__=%2AW&paipv=0\" class=\"nowrap\">댓글 72개</a><span> · </span><a href=\"/composer/mbasic/?c_src=share&referrer=other&target=100087280119490&sid=5751218721624709&m=self&exit_uri=https%3A%2F%2Fm.facebook.com%2Fsearch%2Fposts%2F%3Fq%3D%25EB%2583%2589%25EB%258F%2599%25EB%25A7%258C%25EB%2591%2590%26source%3Dfilter%26isTrending%3D0%26cursor%26pn%3D1%26tsid&shared_from_post_id=5751218724958042&cwevent=composer_entry&view_overview&av=100087280119490&__tn__=%2AW&paipv=0&eav=AfaEcIhY2ZjaCy_qFcXKijVNgmpZfP5rueFQmP6-wLunlNmhZrvxILZ8UDaD6-CAm88\">공유</a><span> · </span><a class=\"nowrap\" href=\"/a/profile.php?fan&id=611749218905044&origin=feed_story&rb=1&inlineSuggestionsOnLiking=1&eav=AfZ4AgMzYzvJCGjkc-KtE8vqPdQ6CiDXPIp-WMeoMVqcQkQPUUuFpE4kaejBGI_j55A&gfid=AQAzhBpP9SnPI399bC8&paipv=0&__tn__=%2AW\">페이지 좋아요</a><span> · </span><a href=\"/story.php?story_fbid=pfbid036RnR4eQf9MK1N4oZ2GjnUciWQjCjMiobjhjQxV5AWjzSDndctRcL2s8hYjZbSBQMl&id=611749218905044&eav=AfbbjBXuBikVkJTb0uhiPuA3VgCJ0zG6WQ2tuIlDgr3gh3lhhfakHa9vvtO3b49L7SQ&__tn__=%2AW&paipv=0#footer_action_list\">전체 소식</a><span> · </span><a href=\"/save/story/basic/?privacy_mutation_token=eyJ0eXBlIjowLCJjcmVhdGlvbl90aW1lIjoxNjY3Mzc1OTQ0LCJjYWxsc2l0ZV9pZCI6MzU3ODEyNTU1MzAzNDM4fQ%3D%3D&story_id=S%3A_I611749218905044%3A5751218724958042&action=SAVE&surface=mbasic_story&mechanism=ufi_action_link&eav=AfYC5BHPpiLkQjgUIZgc0-EbrMKtwJvHAW9unv561tqMqxz25R_58PMejKRO3f23Ehs&paipv=0&ext=1667635145&hash=AeQT7xz3Hrb-00-G-7A&__tn__=%2AW\">저장</a></div></div></div></div></div></div></div></div></div></div></div></div><div class=\"acw apm\" id=\"see_more_pager\"><a href=\"https://m.facebook.com/search/posts/?q=%EB%83%89%EB%8F%99%EB%A7%8C%EB%91%90&source=filter&isTrending=0&cursor=AboeDXw45x7sCT0gnhypSey4zxX1ESe33z_98tLmRGab5gKinwzDPerDJ02zI0aHSWU_JstCqp5nQaOU1uB50RZ4RDaKLPIwyZxNrlZY3qEaiWZFTjJh1Dy2sLLz1nvtt4nOP19w_pUJmimFNnZdyOsfMMsxt6MN-D63RyhtKKmvEOuOVPjvPAOphR9ynS7_TWakYeIT075j4AuHhzlc1hJDmgz19hcjVXYdRyvP8JN7JLsUgMdMIOkas3Az7eR-Eqwh5HYG-OtHrGBFmmWf0cbcABzsJMeTFjq5Ge8O6Zxc7_QeTjh9ZSYX6CMt4iD70ya8osC1-ktspRAC7ObJ-5mIMXCGzwwi8xAne_04HH0VNW8Fx2AWhQ7-yOBY3D37lRTGWkZ-cvKqAzJg-DPiHkSsImqGavECpxqnxr-tGHJOTAnwmg_84ytL12En01qJ1Cs-vrVkOB1a1f-F3mnpjMf6W86a7xqICTRhHJhGxaHSGwlpHHGFyNOW7Zu6Ut-IDMZTATv8wzOm81WngYtkpy_edcKXwRhVQlvI4Pd3Iz7jLbx8HbGdNb1rscdtXmZUXZcJo4S5MNfUA3DurJj12ziMOKjEvhxYG0C4bq9K_IayoAEgCEifhn6iWWxsg7i187gWN0J2szNE6qQMBoCcEdSWa2YuHyupOL591eyZzZjWCIXbJZ17QA-hu_MmU_29KEtZ8-c_qJb5xSa0QJaSA_mxJCeNeVLZEKJZRNZgwXWxES5pzMIY32USk3bsQHonIG3fM9d6til5NuCvg7EsARPDTcrul1gKDF96Cy5XAti9mU8PxR49p_ij6bQs3W1pN3pyzhhYURB5eUXkTTz4QjIo7Imsol-UUeYcgApdZoCTwBrJuOe-ZDYgs875JkmnK8HkJIwmTNTHk1SY6k-YCAdyGW22DBFSI1W_26rvM0D7OqCRAOkohgFBV96gUpyPrnNPdRKvxYZccX-XC3tZWd1o2ASBh_Vp1JAUrlP-4nhtTmhYjOfKhhpSuR0Aze_6CD8YPVZcMWsXVEanLJc70IX4dXFUXJliDIk2nDiqpfupW30raKbPB0tb8deCf8l2oq-wmM7ZUKGNC96NypBco-K5IvQojpZLBin9BzpFq12Kvinp4FfTN1mioteO17OWDbu_QAJVL0HGoRUcVahRq2Z32oy6o5TGpR6x8fmzJL2IGtWcZXSyRsINMDIRPIrHtMv8XyjT-Mqj2xr98I7jV0Lh80AHkRE5fZkOnR9GgnuA85hqpZ3tY49ltlh-tcgfTVGlH1XeXkzYItWohNE9kt5ct9wPYhOHA3Tb-pFHEPmAyZYWIxf0TaaAuhgTNeEcH4NTk-484NSRB_0YWaZHb_XS1nbg9SdY1XLXFPjRBQRlx961xXK8dO7oRCs92ytZuaxJrMSb3OBH83B4wOlobzC3Pe3jtDGYWz5uST1Ve1lxw68CjOgV4KcZMYbd4LVpI5_BUt1rBuhEwM6WmtMSJTl6R1J_Yyg8RheNy56wORB1ftyU08Mix1Hcn_m4Jgw_qxVUwydoZRxBEkE1mCuOb86MqGrwxrmRQZPxozTrtuuPijx_e9hf3PEfzEdYXZbQZh07ZHTDCJ0iTrCYCSfpJKL-zHY14evThzfESAzaTv6YZOhGg5mpn9PR2D6qcY33R3fuMBIj9rZWMINBkA799CZ3qHjtrd7gNSCk1BW-SViXgCfQInrOrp7O5zf2O-PhtXCWiRy83fZbuxNqq3J9rN5ye-NIgoKArTKgDp7_AXPqW4xoohNeOcMTdD1fjCVvSKnPuw3_Mc4AkrlCMsMilajtc1dj-4e1yAIvFcfSDIbQKkRkRB5X-YHUlC9G3kD4_pW_pJ14s79bCu05sZ0B6UTV&pn=2&tsid&usid=04e94ea13c14a035f5b051d0ca825960&paipv=0&eav=AfYoFij6fv8IXNkmV9hGljyVtdPI-wfVrugE-vXm1-cmKntRbrZQpof99RzeWlyfdWY\"><span>결과 더 보기</span></a></div></div>'"
      ]
     },
     "execution_count": 8,
     "metadata": {},
     "output_type": "execute_result"
    }
   ],
   "source": [
    "'''\n",
    "오류가 발생하기 시작하는 부분\n",
    "\n",
    "내일 (11/02/수) 확인해야 하는 내용\n",
    "\n",
    "cookie에 더 들어가는 m_pixel, locale 등의 값들이 필수인지, 필수라면 어디서 구하는지 확인\n",
    "페이로드에 들어가는 __a (비로그인시 1인 것으로 보임), dtsg의 2,3 구간의 값들을 어떻게 채우는지 확인 (dtsg는 긴 값:짧은 값:짧은 값 형식)\n",
    "'''\n",
    "#요청보내기\n",
    "resp = session.post(full_url, data=data, headers=headers)\n",
    "\n",
    "#JSON형식으로 변환 후 html 코드 (우리가 원하는 텍스트 정보) 추출\n",
    "rstext= resp.text[9:]\n",
    "rsjson = json.loads(rstext)\n",
    "#해당 페이지의 텍스트 정보를 포함하고 있는 html코드, BeautifulSoup로 파싱해서 정규식 추출해야함\n",
    "\n",
    "unescape(rsjson['payload']['actions'][0]['html'])\n"
   ]
  },
  {
   "cell_type": "code",
   "execution_count": 9,
   "id": "5b2784fd",
   "metadata": {},
   "outputs": [],
   "source": [
    "#다음 커서 찾기, 정규식 이용\n",
    "p = re.compile('cursor=([a-zA-Z0-9_-]*[^&])')\n",
    "next_cur = p.search(unescape(rsjson['payload']['actions'][0]['html'])).group(1)\n",
    "\n",
    "#url에 들어가는 파라미터 중 'cursor'만 교체\n",
    "get_params['cursor'] = next_cur\n",
    "full_url = url+'?'\n",
    "keys = list(get_params.keys())\n",
    "values = list(get_params.values())\n",
    "for i in range(len(keys)):\n",
    "    full_url += '%s=%s&'%(keys[i],values[i]) \n",
    "full_url = full_url[:-1]"
   ]
  }
 ],
 "metadata": {
  "kernelspec": {
   "display_name": "Python 3 (ipykernel)",
   "language": "python",
   "name": "python3"
  },
  "language_info": {
   "codemirror_mode": {
    "name": "ipython",
    "version": 3
   },
   "file_extension": ".py",
   "mimetype": "text/x-python",
   "name": "python",
   "nbconvert_exporter": "python",
   "pygments_lexer": "ipython3",
   "version": "3.10.7"
  }
 },
 "nbformat": 4,
 "nbformat_minor": 5
}
