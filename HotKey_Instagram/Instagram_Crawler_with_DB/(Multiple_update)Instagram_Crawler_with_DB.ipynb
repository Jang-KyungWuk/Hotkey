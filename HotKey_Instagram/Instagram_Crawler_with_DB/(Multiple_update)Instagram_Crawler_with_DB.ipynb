{
 "cells": [
  {
   "cell_type": "markdown",
   "id": "12b216f6",
   "metadata": {
    "pycharm": {
     "name": "#%% md\n"
    }
   },
   "source": [
    "# 일일 업데이트시 다수의 키워드를 크롤링 후 DB에 업데이트하는 로직"
   ]
  },
  {
   "cell_type": "code",
   "execution_count": 3,
   "id": "2b0f9236",
   "metadata": {
    "pycharm": {
     "name": "#%%\n"
    }
   },
   "outputs": [],
   "source": [
    "from requests import get, post, Session\n",
    "from urllib import parse\n",
    "import json\n",
    "from datetime import datetime, timedelta\n",
    "import emoji\n",
    "import time\n",
    "import pymysql\n",
    "import random"
   ]
  },
  {
   "cell_type": "markdown",
   "id": "e2472373",
   "metadata": {
    "pycharm": {
     "name": "#%% md\n"
    }
   },
   "source": [
    "# DB 접속 정보"
   ]
  },
  {
   "cell_type": "code",
   "execution_count": 4,
   "id": "12c9f955",
   "metadata": {
    "pycharm": {
     "name": "#%%\n"
    }
   },
   "outputs": [],
   "source": [
    "host = 'hotkey.czighwjgpkkz.ap-northeast-2.rds.amazonaws.com'\n",
    "user = 'admin'\n",
    "pw = 'hotkey123'\n",
    "port = 3306"
   ]
  },
  {
   "cell_type": "markdown",
   "id": "56c02d97",
   "metadata": {
    "pycharm": {
     "name": "#%% md\n"
    }
   },
   "source": [
    "# Account 정보 & cur_idx => 현재 이용하고 있는 계정"
   ]
  },
  {
   "cell_type": "code",
   "execution_count": 7,
   "id": "423c5435",
   "metadata": {
    "pycharm": {
     "name": "#%%\n"
    }
   },
   "outputs": [],
   "source": [
    "# 전체 계정 (사실상 전부 차단 전력있음)\n",
    "total_acc = [('kj10522002@korea.ac.kr','kj76081460!'), ('quickpass8@gmail.com','thskrl1!'),('hotkey2','gktzl2'),\n",
    "                 ('seungirumd+1@gmail.com', 'pinstaw25'), ('lshyun0510.11@gmail.com', '*thvmxmdnpdj'),\n",
    "                 ('seyun1052dev@gmail.com', 'kj76081460!'), ('lshyun0510.12@gmail.com', '*thvmxmdnpdj'),\n",
    "                 ('quickpass88@gmail.com', 'thskrl1!'), ('hotkey22', 'gktzl22!'), ('tamikia0@hbviralbv.com', 'cvd0^ktm')]\n",
    "\n",
    "# 사용중인 계정 리스트\n",
    "using_acc = [(i[0], i[1], datetime.now()) for i in total_acc]\n",
    "# 임시 테스트용..\n",
    "# using_acc = [('kj10522002@korea.ac.kr','kj76081460!'), ('tamikia0@hbviralbv.com','cvd0^ktm')]"
   ]
  },
  {
   "cell_type": "code",
   "execution_count": 8,
   "id": "66223834",
   "metadata": {
    "pycharm": {
     "name": "#%%\n"
    }
   },
   "outputs": [],
   "source": [
    "#최종 로그인 날짜에 따라 sorting하는 logic\n",
    "using_acc.sort(key=lambda x:x[2]) "
   ]
  },
  {
   "cell_type": "markdown",
   "id": "b2aa9354",
   "metadata": {
    "pycharm": {
     "name": "#%% md\n"
    }
   },
   "source": [
    "### 그 외 초기값.."
   ]
  },
  {
   "cell_type": "code",
   "execution_count": 9,
   "id": "d455df58",
   "metadata": {
    "pycharm": {
     "name": "#%%\n"
    }
   },
   "outputs": [],
   "source": [
    "delimiter = 'HOTKEY123!@#'\n",
    "cur_idx = -1 #account정보 가르킨다."
   ]
  },
  {
   "cell_type": "markdown",
   "id": "bd15a379",
   "metadata": {
    "pycharm": {
     "name": "#%% md\n"
    }
   },
   "source": [
    "## 기존 데이터 중 update가 필요한 wordlist를 생성하는 함수 (ref = 몇일 이상 지난 tag를 업데이트 할지, 정책에 따라 바꾸기) - return uplist\n",
    "#### 실제 사용은 파일 형태가 아니라 DB에서 뽑아오는 로직으로 변경 필요."
   ]
  },
  {
   "cell_type": "code",
   "execution_count": 11,
   "id": "92830423",
   "metadata": {
    "pycharm": {
     "name": "#%%\n"
    }
   },
   "outputs": [],
   "source": [
    "def update_check(ref = 2):\n",
    "    conn = pymysql.connect(host=host, user=user, password=pw, port=port, charset='utf8') #db연결\n",
    "    cur = conn.cursor(pymysql.cursors.DictCursor)\n",
    "    cur.execute('use hotkey;')\n",
    "    cur.execute('SELECT tid,tname FROM (SELECT tid, tname, DATEDIFF(NOW(),up_date) AS diff FROM is_tag NATURAL JOIN tag_info) AS a WHERE diff >= (%s);', (ref))\n",
    "    res = cur.fetchall()\n",
    "    uplist = list()\n",
    "    for row in res:\n",
    "        uplist.append(row['tname'])\n",
    "    return uplist"
   ]
  },
  {
   "cell_type": "code",
   "execution_count": 14,
   "id": "87157cd4",
   "metadata": {
    "collapsed": true,
    "pycharm": {
     "name": "#%%\n"
    }
   },
   "outputs": [
    {
     "data": {
      "text/plain": [
       "([],\n",
       " ['일상',\n",
       "  '일상스타그램',\n",
       "  '데일리그램',\n",
       "  '데일리',\n",
       "  '인스타일상',\n",
       "  '오오티디',\n",
       "  'ootd',\n",
       "  '오늘',\n",
       "  '어제',\n",
       "  '실시간',\n",
       "  '인스타굿',\n",
       "  '주말',\n",
       "  '풍경',\n",
       "  '풍경스타그램',\n",
       "  '일상소통그램',\n",
       "  '선팔',\n",
       "  '맞팔',\n",
       "  '팔로우',\n",
       "  '인친',\n",
       "  '사진스타그램',\n",
       "  '데일리스타그램',\n",
       "  '소통',\n",
       "  '소통해요',\n",
       "  '소통환영',\n",
       "  '데일리룩',\n",
       "  '일기장',\n",
       "  '하루일과',\n",
       "  '그냥',\n",
       "  '휴무',\n",
       "  '오후',\n",
       "  '오랜만',\n",
       "  '주말그램',\n",
       "  '주말일상',\n",
       "  '일요일',\n",
       "  '굿모닝',\n",
       "  '월요일',\n",
       "  '월요병',\n",
       "  'daily',\n",
       "  '심심',\n",
       "  '밤산책',\n",
       "  '토요일',\n",
       "  '저녁밥상',\n",
       "  '2021',\n",
       "  '여자친구',\n",
       "  '남자친구',\n",
       "  '럽스타그램',\n",
       "  '럽스타',\n",
       "  '데이트',\n",
       "  '연애중',\n",
       "  '세젤예',\n",
       "  '남친스타그램',\n",
       "  '여친스타그램',\n",
       "  '행복한하루',\n",
       "  '내사랑',\n",
       "  '남친몬',\n",
       "  '여친몬',\n",
       "  '곰신',\n",
       "  '곰신스타그램',\n",
       "  '러브러브',\n",
       "  '알라뷰',\n",
       "  '사랑중',\n",
       "  '내꺼',\n",
       "  '연애하고싶다',\n",
       "  '연애상담',\n",
       "  'n년차부부',\n",
       "  'n년차커플',\n",
       "  '커플계정',\n",
       "  '연상연하커플',\n",
       "  '데이트코스',\n",
       "  '데이트스타그램',\n",
       "  '사랑꾼',\n",
       "  '데이트그램',\n",
       "  '커플',\n",
       "  '커플샷',\n",
       "  '기념일',\n",
       "  '사랑해',\n",
       "  '연애',\n",
       "  '사랑',\n",
       "  '연애그램',\n",
       "  '사랑해요',\n",
       "  '추억',\n",
       "  '포옹샷',\n",
       "  '여친짤',\n",
       "  '여친선물',\n",
       "  '여친룩',\n",
       "  '남친룩',\n",
       "  '연애일기',\n",
       "  '연인',\n",
       "  '부부',\n",
       "  '부부스타그램',\n",
       "  '남편',\n",
       "  '와이프',\n",
       "  '브라이덜샤워',\n",
       "  '결혼준비',\n",
       "  '웨딩촬영',\n",
       "  '웨딩사진',\n",
       "  '알콩달콩',\n",
       "  '여행',\n",
       "  '어디까지가봤니',\n",
       "  '여행에미치다',\n",
       "  '여행지추천',\n",
       "  '떠나고싶다',\n",
       "  '드라이브',\n",
       "  '여행스타그램',\n",
       "  '호캉스',\n",
       "  '캠핑',\n",
       "  '풍경사진',\n",
       "  '사진소통',\n",
       "  '해외여행',\n",
       "  '미국여행',\n",
       "  '국내여행',\n",
       "  '대한민국구석구석',\n",
       "  '국내여행가볼만한곳',\n",
       "  '감성여행',\n",
       "  '여행사진',\n",
       "  '여행을떠나는이유',\n",
       "  '여행후기',\n",
       "  '여행중',\n",
       "  '여행이좋다',\n",
       "  '힐링',\n",
       "  '여행기록',\n",
       "  '여행일기',\n",
       "  '여행코디',\n",
       "  '백패킹',\n",
       "  '여행그램',\n",
       "  '여행중독',\n",
       "  '여행앓이',\n",
       "  'travel',\n",
       "  '비행스타그램',\n",
       "  '추억스타그램',\n",
       "  '떠나자',\n",
       "  '놀러가자',\n",
       "  '휴가스타그램',\n",
       "  '휴가그램',\n",
       "  'trip',\n",
       "  '핫플',\n",
       "  '가볼만한곳',\n",
       "  '아이와가볼만한곳',\n",
       "  '여름휴가',\n",
       "  '운동',\n",
       "  '다이어트',\n",
       "  '다이어터',\n",
       "  '유지어터',\n",
       "  '유지어터식단',\n",
       "  '운동그램',\n",
       "  '운동일지',\n",
       "  '운동일기',\n",
       "  '운동중독',\n",
       "  '다욧',\n",
       "  '식단조절',\n",
       "  '다이어트식단',\n",
       "  '필라테스',\n",
       "  '요가',\n",
       "  '아가리어터',\n",
       "  '평생숙제',\n",
       "  '홈트',\n",
       "  '홈트레이닝',\n",
       "  '오전운동',\n",
       "  '운동하는여자',\n",
       "  '운동하는남자',\n",
       "  '다이어트그램',\n",
       "  'diet',\n",
       "  '몸짱',\n",
       "  '눈바디',\n",
       "  '눈바디체크',\n",
       "  '유산소',\n",
       "  '자기관리',\n",
       "  '피트니스타그램',\n",
       "  '몸스타그램',\n",
       "  '피트니스',\n",
       "  '런스타그램',\n",
       "  '웨이트',\n",
       "  '데드리프트',\n",
       "  '건강',\n",
       "  '헬스',\n",
       "  '헬스타그램',\n",
       "  '운스타그램',\n",
       "  'workout',\n",
       "  'fitness',\n",
       "  '헬창',\n",
       "  '바디프로필',\n",
       "  '바디체크',\n",
       "  '몸매관리',\n",
       "  '헬린이',\n",
       "  '벌크업',\n",
       "  '운동하는직장인',\n",
       "  '힙업',\n",
       "  '헬스장',\n",
       "  '하체운동',\n",
       "  '운동소통',\n",
       "  '육아스타그램',\n",
       "  '육아일상',\n",
       "  '육아정보',\n",
       "  '육아템',\n",
       "  '육아맘일상',\n",
       "  '아빠육아',\n",
       "  '베이비그램',\n",
       "  '아기스타그램',\n",
       "  '얼짱아기',\n",
       "  '우래기',\n",
       "  '울애기',\n",
       "  '아가그램',\n",
       "  '등원룩',\n",
       "  '오오티디베이비',\n",
       "  '베이비룩',\n",
       "  '아가아가',\n",
       "  '베이비',\n",
       "  '딸스타그램',\n",
       "  '딸맘',\n",
       "  '아들스타그램',\n",
       "  '아들맘',\n",
       "  '30대맘',\n",
       "  '젊줌마',\n",
       "  '키즈스타그램',\n",
       "  '울지마',\n",
       "  '육아소통',\n",
       "  '육아전쟁',\n",
       "  '육아는장비빨',\n",
       "  '가족스타그램',\n",
       "  '초보엄마',\n",
       "  '초보아빠',\n",
       "  '육아',\n",
       "  '육아그램',\n",
       "  '육아일기',\n",
       "  '육아기록',\n",
       "  '워킹맘',\n",
       "  '워킹맘스타그램',\n",
       "  '딸바보',\n",
       "  '육아맘',\n",
       "  '맘스타그램',\n",
       "  '주부스타그램',\n",
       "  '회사',\n",
       "  '직장인',\n",
       "  '직장인스타그램',\n",
       "  '직장인소통',\n",
       "  '직장인투잡',\n",
       "  '직장인취미',\n",
       "  '퇴근',\n",
       "  '회사에서',\n",
       "  '집에가고싶다',\n",
       "  '열일',\n",
       "  '점심시간',\n",
       "  '직장인그램',\n",
       "  '사회생활',\n",
       "  '신입',\n",
       "  '인턴',\n",
       "  '백수',\n",
       "  '사원증',\n",
       "  '오피스룩',\n",
       "  '직딩',\n",
       "  '월요일싫어',\n",
       "  '출근하기싫다',\n",
       "  '출근룩',\n",
       "  '퇴사',\n",
       "  '퇴사선물',\n",
       "  '퇴사각',\n",
       "  '일개미',\n",
       "  '내일도출근',\n",
       "  '월급',\n",
       "  '월급날',\n",
       "  '월급루팡',\n",
       "  '막내',\n",
       "  '퇴근후',\n",
       "  '직장인의삶',\n",
       "  '현실은',\n",
       "  '야근',\n",
       "  '출근길',\n",
       "  '출근',\n",
       "  '출근중',\n",
       "  '퇴사기념',\n",
       "  '직장인룩',\n",
       "  '직장인도시락',\n",
       "  '혼밥',\n",
       "  '직장인점심',\n",
       "  '직장인다이어트',\n",
       "  '직장인코디',\n",
       "  '직장인공부',\n",
       "  'food',\n",
       "  '맛집스타그램',\n",
       "  'instafood',\n",
       "  '맛집탐방',\n",
       "  '맛집',\n",
       "  '맛집추천',\n",
       "  '맛집그램',\n",
       "  '먹스타그램',\n",
       "  '온더테이블',\n",
       "  '푸드스타그램',\n",
       "  '술스타그램',\n",
       "  '존맛탱',\n",
       "  'koreafood',\n",
       "  '맛있다',\n",
       "  '또먹고싶다',\n",
       "  '먹방',\n",
       "  'foodfic',\n",
       "  '먹스타',\n",
       "  '먹스타맞팔',\n",
       "  '먹스타선팔'])"
      ]
     },
     "execution_count": 14,
     "metadata": {},
     "output_type": "execute_result"
    }
   ],
   "source": [
    "# 사용 예시\n",
    "update_check(3), update_check(2)"
   ]
  },
  {
   "cell_type": "markdown",
   "id": "a2ea4d92",
   "metadata": {
    "pycharm": {
     "name": "#%% md\n"
    }
   },
   "source": [
    "# 새로 업데이트된 트렌드 태그 셋을 받아오는 함수 (구현 예정)\n",
    "### 기존 DB와 겹치는 것이 있다면, 따로 update list에 올려야한다. trend set이 아니라\n",
    "### trendset은 'insert문' // update list는 'update 문'으로 관리."
   ]
  },
  {
   "cell_type": "code",
   "execution_count": 15,
   "id": "36abf9be",
   "metadata": {
    "pycharm": {
     "name": "#%%\n"
    }
   },
   "outputs": [],
   "source": [
    "def trend_check():\n",
    "    trendlist = ()\n",
    "    ###미구현###\n",
    "    ###여기에 구현 예정###\n",
    "    return trendlist"
   ]
  },
  {
   "cell_type": "markdown",
   "id": "620b26f1",
   "metadata": {
    "pycharm": {
     "name": "#%% md\n"
    }
   },
   "source": [
    "## 최근 게시물 수집 함수"
   ]
  },
  {
   "cell_type": "code",
   "execution_count": null,
   "id": "ea560223",
   "metadata": {
    "pycharm": {
     "name": "#%%\n"
    }
   },
   "outputs": [],
   "source": [
    "def hot_key_instagram_recent(query, headers, session, max_page=40): #return (T/F, recent_list, timestamp, image_list)\n",
    "    postcnt = 0 #포스트 수 카운팅, 300개 되면 stop.\n",
    "    timestamp = 0\n",
    "    \n",
    "    before = datetime.now()\n",
    "    recent_list = list()\n",
    "    image_list = list()\n",
    "    \n",
    "    url = 'https://i.instagram.com/api/v1/tags/web_info/?tag_name={}'.format(parse.quote(query))\n",
    "    headers['x-csrftoken'] = session.cookies.get('csrftoken') #재설정\n",
    "    headers['referer'] = 'https://www.instagram.com/explore/tags/{}/'.format(parse.quote(query))\n",
    "    resp = session.get(url, headers = headers)\n",
    "    \n",
    "    if(resp.status_code == 404):\n",
    "        print('검열되는 해시태그이거나 해당 태그를 담은 페이지가 존재하지 않습니다.')\n",
    "        print('response code : ', 404)\n",
    "        return (False, recent_list, timestamp, image_list)   \n",
    "    \n",
    "    elif(resp.status_code != 200): #응답 에러\n",
    "        print('response error during crawling : please retry with some other way')\n",
    "        print('response code : ', resp.status_code)\n",
    "        #print(resp.text)\n",
    "        return (False, recent_list, timestamp, image_list) #계정바꿔서 재시도\n",
    "\n",
    "    \n",
    "    #첫페이지 응답 정상인경우\n",
    "    \n",
    "    ################################################# 비정상입력 예외처리\n",
    "    try:\n",
    "        resource = resp.json()\n",
    "    except:\n",
    "        print(\"응답 코드는 정상이나, 비정상적인 데이터 형식 반환됨\")\n",
    "        print(resp.text)\n",
    "        return (False, recent_list, timestamp, image_list)\n",
    "    #################################################\n",
    "    \n",
    "    #recent 돌기\n",
    "    \n",
    "    #print('\\n최근 게시물: 1페이지....')\n",
    "    recent_list.append([])\n",
    "    image_list.append([])\n",
    "    for i in resource['data']['recent']['sections']: #0~8\n",
    "        for k in i['layout_content']['medias']:\n",
    "            if (k['media']['caption'] != None):\n",
    "                if 'text' in k['media']['caption'].keys():\n",
    "                    recent_list[0].append(emoji.demojize(k['media']['caption']['text'])) # 이모티콘 제거 ###########################\n",
    "                    timestamp = max(timestamp, k['media']['caption']['created_at_utc']) # 최신 포스트의 현재 시간 1669098438 ##############################\n",
    "                    ###--------------------------1123 추가\n",
    "                    #######################################################################\n",
    "                    try:\n",
    "                        image_list[0].append(k['media']['image_versions2']['candidates'][0]['url']) # 포스트의 이미지 URL \n",
    "                    except:\n",
    "                        image_list[0].append(k['media']['carousel_media'][0]['image_versions2']['candidates'][0]['url'])\n",
    "                        # 복수의 이미지가 있는 포스트의 첫이미지 URL \n",
    "                    #########################################################\n",
    "                    postcnt+=1\n",
    "    print('누적 게시물 수 :', postcnt)\n",
    "    time.sleep(random.uniform(1,5))\n",
    "                    \n",
    "    #recent기준 다음 페이지 관련 정보\n",
    "    recent_info = {'max_id':'', 'page': '', 'isnext': False}\n",
    "    if resource['data']['recent']['more_available']:\n",
    "        recent_info['max_id'], recent_info['page'], recent_info['isnext'] = \\\n",
    "        resource['data']['recent']['next_max_id'], resource['data']['recent']['next_page'], True\n",
    "        \n",
    "    #그 다음 페이지부터 recent 돌기\n",
    "    url = 'https://i.instagram.com/api/v1/tags/{}/sections/'.format(parse.quote(query))\n",
    "    data = {'max_id': recent_info['max_id'], 'page': recent_info['page'], 'surface' : 'grid', 'tab': 'recent'}\n",
    "    \n",
    "    while (recent_info['isnext']==True and data['page']<max_page):\n",
    "        #print('\\n최근 게시물: {}페이지....'.format(data['page']+1))\n",
    "        headers['x-csrftoken'] = session.cookies['csrftoken'] #매번 재설정해주기\n",
    "        resp = session.post(url, data=data, headers=headers)\n",
    "        ########################################################################### 스크롤 시작 이후 로그인 소요 발생 시 예외 처리\n",
    "        if(resp.status_code != 200): #응답 에러\n",
    "            print('response error during crawling : please retry with some other way\\n')\n",
    "            print('response code : ', resp.status_code)\n",
    "            #print(resp.text)\n",
    "            return (False, recent_list, timestamp, image_list) #계정바꿔서 재시도\n",
    "        ##########################################################################\n",
    "        ################################################# 비정상입력 예외처리\n",
    "        try:\n",
    "            resource = resp.json()\n",
    "        except:\n",
    "            print(\"응답 코드는 정상이나, 비정상적인 데이터 형식 반환됨\")\n",
    "            return (False, recent_list, timestamp, image_list)\n",
    "        #################################################\n",
    "        recent_list.append([])\n",
    "        image_list.append([])\n",
    "        for i in resource['sections']: #0~8\n",
    "            for k in i['layout_content']['medias']: #0~2\n",
    "                if (k['media']['caption'] != None):\n",
    "                    if 'text' in k['media']['caption'].keys():\n",
    "                        recent_list[data['page']].append(emoji.demojize(k['media']['caption']['text'])) # 이모티콘 제거 ###############\n",
    "                        ###--------------------------1123 추가\n",
    "                        #######################################################################\n",
    "                        try:\n",
    "                            image_list[data['page']].append(k['media']['image_versions2']['candidates'][0]['url']) # 포스트의 이미지 URL \n",
    "                        except:\n",
    "                            image_list[data['page']].append(k['media']['carousel_media'][0]['image_versions2']['candidates'][0]['url'])\n",
    "                            # 복수의 이미지가 있는 포스트의 첫이미지 URL \n",
    "                        #########################################################\n",
    "                        postcnt+=1\n",
    "                        if (postcnt >= 300):\n",
    "                            print('누적 게시물 수 :', postcnt)\n",
    "                            print('최근 게시물 수집 완료!')\n",
    "                            print('총 소요시간 : ', datetime.now() - before,'\\n\\n')\n",
    "                            return (True, recent_list, timestamp, image_list)\n",
    "            \n",
    "        if resource['more_available']:\n",
    "            data['max_id'] = resource['next_max_id']\n",
    "            data['page'] = resource['next_page']\n",
    "    \n",
    "        else:\n",
    "            recent_info['isnext']=False\n",
    "        print('누적 게시물 수 :', postcnt)\n",
    "        time.sleep(random.uniform(1,5))\n",
    "    \n",
    "    print('누적 게시물 수 :', postcnt)\n",
    "    print('최근 게시물 수집 완료!')\n",
    "    print('총 소요시간 : ', datetime.now() - before,'\\n')\n",
    "    return (True, recent_list, timestamp, image_list)"
   ]
  },
  {
   "cell_type": "markdown",
   "id": "a7e45cc5",
   "metadata": {
    "pycharm": {
     "name": "#%% md\n"
    }
   },
   "source": [
    "# 현재까지 not_colleccted : ['['꿀주말 ', '운동스타그램', '러닝 ', '인테리어']]\n",
    "# corpus가 ' '인경우, 404떠서 수집 안된경우(아예 검열되는거), \n",
    "# 계정 막혀서 중간에 checkpoint 필요하다고 뜨는경우 (이 경우 중간에 그 계정을 acc_list에서 빼야함)\n"
   ]
  }
 ],
 "metadata": {
  "kernelspec": {
   "display_name": "Python 3 (ipykernel)",
   "language": "python",
   "name": "python3"
  },
  "language_info": {
   "codemirror_mode": {
    "name": "ipython",
    "version": 3
   },
   "file_extension": ".py",
   "mimetype": "text/x-python",
   "name": "python",
   "nbconvert_exporter": "python",
   "pygments_lexer": "ipython3",
   "version": "3.9.7"
  }
 },
 "nbformat": 4,
 "nbformat_minor": 5
}